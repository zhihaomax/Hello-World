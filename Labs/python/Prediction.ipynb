{
  "cells": [
    {
      "cell_type": "markdown",
      "metadata": {
        "id": "YKjVXkOq5RvM"
      },
      "source": [
        "# Prediction"
      ]
    },
    {
      "cell_type": "markdown",
      "metadata": {
        "id": "fop3YacnNZFe"
      },
      "source": [
        "[![Open in Colab](https://colab.research.google.com/assets/colab-badge.svg)](https://colab.research.google.com/github/Mixtape-Sessions/Machine-Learning/blob/main/Labs/python/Prediction.ipynb)"
      ]
    },
    {
      "cell_type": "markdown",
      "metadata": {
        "id": "KhnbzPkYx-k9"
      },
      "source": [
        "Outcome to be predicted: $Y_i$\n",
        "> *example:* a worker's log wage\n",
        "\n",
        "Characteristics (aka **features**): $X_i=\\left(X_{1i},\\ldots,X_{pi}\\right)'$\n",
        "> *example:* education, age, state of birth, parents' education, cognitive ability, family background\n"
      ]
    },
    {
      "cell_type": "code",
      "execution_count": 2,
      "metadata": {
        "id": "7IIIROqHoI4g",
        "outputId": "e37b139c-29ab-4dae-bef9-6626b2df8041",
        "colab": {
          "base_uri": "https://localhost:8080/",
          "height": 488
        }
      },
      "outputs": [
        {
          "output_type": "execute_result",
          "data": {
            "text/plain": [
              "      lnw_2016  educ  black  hispanic  other  exp    afqt  mom_educ  dad_educ  \\\n",
              "0     4.076898    16      0         0      0   11  7.0724        12        12   \n",
              "1     3.294138     9      0         0      0   19  4.7481         9        10   \n",
              "2     2.830896     9      0         1      0   22  1.1987        12         9   \n",
              "3     4.306459    16      0         0      0   13  8.9321        16        18   \n",
              "4     5.991465    16      0         1      0   15  2.2618        16        16   \n",
              "...        ...   ...    ...       ...    ...  ...     ...       ...       ...   \n",
              "1261  1.833475    14      1         0      0   17  3.8179        15        12   \n",
              "1262  3.341985     9      0         1      0   20  3.3043        12        11   \n",
              "1263 -0.928125    10      1         0      0   19  1.0319        10        13   \n",
              "1264  3.702931    18      0         0      0   12  8.5093        16        19   \n",
              "1265 -1.348073    11      0         1      0   20  0.1059        10        12   \n",
              "\n",
              "      yhea_100_1997  ...  _XPexp_13  _XPexp_14  _XPexp_16  _XPexp_17  \\\n",
              "0                 3  ...          0          0          0          0   \n",
              "1                 2  ...          0          0          0          0   \n",
              "2                 3  ...          0          0          0          0   \n",
              "3                 2  ...          1          0          0          0   \n",
              "4                 1  ...          0          0          0          0   \n",
              "...             ...  ...        ...        ...        ...        ...   \n",
              "1261              2  ...          0          0          0          1   \n",
              "1262              2  ...          0          0          0          0   \n",
              "1263              2  ...          0          0          0          0   \n",
              "1264              2  ...          0          0          0          0   \n",
              "1265              2  ...          0          0          0          0   \n",
              "\n",
              "      _XPexp_18  _XPexp_19  _XPexp_20  _XPexp_21  _XPexp_22  _XPexp_23  \n",
              "0             0          0          0          0          0          0  \n",
              "1             0          1          0          0          0          0  \n",
              "2             0          0          0          0          1          0  \n",
              "3             0          0          0          0          0          0  \n",
              "4             0          0          0          0          0          0  \n",
              "...         ...        ...        ...        ...        ...        ...  \n",
              "1261          0          0          0          0          0          0  \n",
              "1262          0          0          1          0          0          0  \n",
              "1263          0          1          0          0          0          0  \n",
              "1264          0          0          0          0          0          0  \n",
              "1265          0          0          1          0          0          0  \n",
              "\n",
              "[1266 rows x 994 columns]"
            ],
            "text/html": [
              "\n",
              "  <div id=\"df-60439a29-fda2-4378-983a-140dc4c5f969\">\n",
              "    <div class=\"colab-df-container\">\n",
              "      <div>\n",
              "<style scoped>\n",
              "    .dataframe tbody tr th:only-of-type {\n",
              "        vertical-align: middle;\n",
              "    }\n",
              "\n",
              "    .dataframe tbody tr th {\n",
              "        vertical-align: top;\n",
              "    }\n",
              "\n",
              "    .dataframe thead th {\n",
              "        text-align: right;\n",
              "    }\n",
              "</style>\n",
              "<table border=\"1\" class=\"dataframe\">\n",
              "  <thead>\n",
              "    <tr style=\"text-align: right;\">\n",
              "      <th></th>\n",
              "      <th>lnw_2016</th>\n",
              "      <th>educ</th>\n",
              "      <th>black</th>\n",
              "      <th>hispanic</th>\n",
              "      <th>other</th>\n",
              "      <th>exp</th>\n",
              "      <th>afqt</th>\n",
              "      <th>mom_educ</th>\n",
              "      <th>dad_educ</th>\n",
              "      <th>yhea_100_1997</th>\n",
              "      <th>...</th>\n",
              "      <th>_XPexp_13</th>\n",
              "      <th>_XPexp_14</th>\n",
              "      <th>_XPexp_16</th>\n",
              "      <th>_XPexp_17</th>\n",
              "      <th>_XPexp_18</th>\n",
              "      <th>_XPexp_19</th>\n",
              "      <th>_XPexp_20</th>\n",
              "      <th>_XPexp_21</th>\n",
              "      <th>_XPexp_22</th>\n",
              "      <th>_XPexp_23</th>\n",
              "    </tr>\n",
              "  </thead>\n",
              "  <tbody>\n",
              "    <tr>\n",
              "      <th>0</th>\n",
              "      <td>4.076898</td>\n",
              "      <td>16</td>\n",
              "      <td>0</td>\n",
              "      <td>0</td>\n",
              "      <td>0</td>\n",
              "      <td>11</td>\n",
              "      <td>7.0724</td>\n",
              "      <td>12</td>\n",
              "      <td>12</td>\n",
              "      <td>3</td>\n",
              "      <td>...</td>\n",
              "      <td>0</td>\n",
              "      <td>0</td>\n",
              "      <td>0</td>\n",
              "      <td>0</td>\n",
              "      <td>0</td>\n",
              "      <td>0</td>\n",
              "      <td>0</td>\n",
              "      <td>0</td>\n",
              "      <td>0</td>\n",
              "      <td>0</td>\n",
              "    </tr>\n",
              "    <tr>\n",
              "      <th>1</th>\n",
              "      <td>3.294138</td>\n",
              "      <td>9</td>\n",
              "      <td>0</td>\n",
              "      <td>0</td>\n",
              "      <td>0</td>\n",
              "      <td>19</td>\n",
              "      <td>4.7481</td>\n",
              "      <td>9</td>\n",
              "      <td>10</td>\n",
              "      <td>2</td>\n",
              "      <td>...</td>\n",
              "      <td>0</td>\n",
              "      <td>0</td>\n",
              "      <td>0</td>\n",
              "      <td>0</td>\n",
              "      <td>0</td>\n",
              "      <td>1</td>\n",
              "      <td>0</td>\n",
              "      <td>0</td>\n",
              "      <td>0</td>\n",
              "      <td>0</td>\n",
              "    </tr>\n",
              "    <tr>\n",
              "      <th>2</th>\n",
              "      <td>2.830896</td>\n",
              "      <td>9</td>\n",
              "      <td>0</td>\n",
              "      <td>1</td>\n",
              "      <td>0</td>\n",
              "      <td>22</td>\n",
              "      <td>1.1987</td>\n",
              "      <td>12</td>\n",
              "      <td>9</td>\n",
              "      <td>3</td>\n",
              "      <td>...</td>\n",
              "      <td>0</td>\n",
              "      <td>0</td>\n",
              "      <td>0</td>\n",
              "      <td>0</td>\n",
              "      <td>0</td>\n",
              "      <td>0</td>\n",
              "      <td>0</td>\n",
              "      <td>0</td>\n",
              "      <td>1</td>\n",
              "      <td>0</td>\n",
              "    </tr>\n",
              "    <tr>\n",
              "      <th>3</th>\n",
              "      <td>4.306459</td>\n",
              "      <td>16</td>\n",
              "      <td>0</td>\n",
              "      <td>0</td>\n",
              "      <td>0</td>\n",
              "      <td>13</td>\n",
              "      <td>8.9321</td>\n",
              "      <td>16</td>\n",
              "      <td>18</td>\n",
              "      <td>2</td>\n",
              "      <td>...</td>\n",
              "      <td>1</td>\n",
              "      <td>0</td>\n",
              "      <td>0</td>\n",
              "      <td>0</td>\n",
              "      <td>0</td>\n",
              "      <td>0</td>\n",
              "      <td>0</td>\n",
              "      <td>0</td>\n",
              "      <td>0</td>\n",
              "      <td>0</td>\n",
              "    </tr>\n",
              "    <tr>\n",
              "      <th>4</th>\n",
              "      <td>5.991465</td>\n",
              "      <td>16</td>\n",
              "      <td>0</td>\n",
              "      <td>1</td>\n",
              "      <td>0</td>\n",
              "      <td>15</td>\n",
              "      <td>2.2618</td>\n",
              "      <td>16</td>\n",
              "      <td>16</td>\n",
              "      <td>1</td>\n",
              "      <td>...</td>\n",
              "      <td>0</td>\n",
              "      <td>0</td>\n",
              "      <td>0</td>\n",
              "      <td>0</td>\n",
              "      <td>0</td>\n",
              "      <td>0</td>\n",
              "      <td>0</td>\n",
              "      <td>0</td>\n",
              "      <td>0</td>\n",
              "      <td>0</td>\n",
              "    </tr>\n",
              "    <tr>\n",
              "      <th>...</th>\n",
              "      <td>...</td>\n",
              "      <td>...</td>\n",
              "      <td>...</td>\n",
              "      <td>...</td>\n",
              "      <td>...</td>\n",
              "      <td>...</td>\n",
              "      <td>...</td>\n",
              "      <td>...</td>\n",
              "      <td>...</td>\n",
              "      <td>...</td>\n",
              "      <td>...</td>\n",
              "      <td>...</td>\n",
              "      <td>...</td>\n",
              "      <td>...</td>\n",
              "      <td>...</td>\n",
              "      <td>...</td>\n",
              "      <td>...</td>\n",
              "      <td>...</td>\n",
              "      <td>...</td>\n",
              "      <td>...</td>\n",
              "      <td>...</td>\n",
              "    </tr>\n",
              "    <tr>\n",
              "      <th>1261</th>\n",
              "      <td>1.833475</td>\n",
              "      <td>14</td>\n",
              "      <td>1</td>\n",
              "      <td>0</td>\n",
              "      <td>0</td>\n",
              "      <td>17</td>\n",
              "      <td>3.8179</td>\n",
              "      <td>15</td>\n",
              "      <td>12</td>\n",
              "      <td>2</td>\n",
              "      <td>...</td>\n",
              "      <td>0</td>\n",
              "      <td>0</td>\n",
              "      <td>0</td>\n",
              "      <td>1</td>\n",
              "      <td>0</td>\n",
              "      <td>0</td>\n",
              "      <td>0</td>\n",
              "      <td>0</td>\n",
              "      <td>0</td>\n",
              "      <td>0</td>\n",
              "    </tr>\n",
              "    <tr>\n",
              "      <th>1262</th>\n",
              "      <td>3.341985</td>\n",
              "      <td>9</td>\n",
              "      <td>0</td>\n",
              "      <td>1</td>\n",
              "      <td>0</td>\n",
              "      <td>20</td>\n",
              "      <td>3.3043</td>\n",
              "      <td>12</td>\n",
              "      <td>11</td>\n",
              "      <td>2</td>\n",
              "      <td>...</td>\n",
              "      <td>0</td>\n",
              "      <td>0</td>\n",
              "      <td>0</td>\n",
              "      <td>0</td>\n",
              "      <td>0</td>\n",
              "      <td>0</td>\n",
              "      <td>1</td>\n",
              "      <td>0</td>\n",
              "      <td>0</td>\n",
              "      <td>0</td>\n",
              "    </tr>\n",
              "    <tr>\n",
              "      <th>1263</th>\n",
              "      <td>-0.928125</td>\n",
              "      <td>10</td>\n",
              "      <td>1</td>\n",
              "      <td>0</td>\n",
              "      <td>0</td>\n",
              "      <td>19</td>\n",
              "      <td>1.0319</td>\n",
              "      <td>10</td>\n",
              "      <td>13</td>\n",
              "      <td>2</td>\n",
              "      <td>...</td>\n",
              "      <td>0</td>\n",
              "      <td>0</td>\n",
              "      <td>0</td>\n",
              "      <td>0</td>\n",
              "      <td>0</td>\n",
              "      <td>1</td>\n",
              "      <td>0</td>\n",
              "      <td>0</td>\n",
              "      <td>0</td>\n",
              "      <td>0</td>\n",
              "    </tr>\n",
              "    <tr>\n",
              "      <th>1264</th>\n",
              "      <td>3.702931</td>\n",
              "      <td>18</td>\n",
              "      <td>0</td>\n",
              "      <td>0</td>\n",
              "      <td>0</td>\n",
              "      <td>12</td>\n",
              "      <td>8.5093</td>\n",
              "      <td>16</td>\n",
              "      <td>19</td>\n",
              "      <td>2</td>\n",
              "      <td>...</td>\n",
              "      <td>0</td>\n",
              "      <td>0</td>\n",
              "      <td>0</td>\n",
              "      <td>0</td>\n",
              "      <td>0</td>\n",
              "      <td>0</td>\n",
              "      <td>0</td>\n",
              "      <td>0</td>\n",
              "      <td>0</td>\n",
              "      <td>0</td>\n",
              "    </tr>\n",
              "    <tr>\n",
              "      <th>1265</th>\n",
              "      <td>-1.348073</td>\n",
              "      <td>11</td>\n",
              "      <td>0</td>\n",
              "      <td>1</td>\n",
              "      <td>0</td>\n",
              "      <td>20</td>\n",
              "      <td>0.1059</td>\n",
              "      <td>10</td>\n",
              "      <td>12</td>\n",
              "      <td>2</td>\n",
              "      <td>...</td>\n",
              "      <td>0</td>\n",
              "      <td>0</td>\n",
              "      <td>0</td>\n",
              "      <td>0</td>\n",
              "      <td>0</td>\n",
              "      <td>0</td>\n",
              "      <td>1</td>\n",
              "      <td>0</td>\n",
              "      <td>0</td>\n",
              "      <td>0</td>\n",
              "    </tr>\n",
              "  </tbody>\n",
              "</table>\n",
              "<p>1266 rows × 994 columns</p>\n",
              "</div>\n",
              "      <button class=\"colab-df-convert\" onclick=\"convertToInteractive('df-60439a29-fda2-4378-983a-140dc4c5f969')\"\n",
              "              title=\"Convert this dataframe to an interactive table.\"\n",
              "              style=\"display:none;\">\n",
              "        \n",
              "  <svg xmlns=\"http://www.w3.org/2000/svg\" height=\"24px\"viewBox=\"0 0 24 24\"\n",
              "       width=\"24px\">\n",
              "    <path d=\"M0 0h24v24H0V0z\" fill=\"none\"/>\n",
              "    <path d=\"M18.56 5.44l.94 2.06.94-2.06 2.06-.94-2.06-.94-.94-2.06-.94 2.06-2.06.94zm-11 1L8.5 8.5l.94-2.06 2.06-.94-2.06-.94L8.5 2.5l-.94 2.06-2.06.94zm10 10l.94 2.06.94-2.06 2.06-.94-2.06-.94-.94-2.06-.94 2.06-2.06.94z\"/><path d=\"M17.41 7.96l-1.37-1.37c-.4-.4-.92-.59-1.43-.59-.52 0-1.04.2-1.43.59L10.3 9.45l-7.72 7.72c-.78.78-.78 2.05 0 2.83L4 21.41c.39.39.9.59 1.41.59.51 0 1.02-.2 1.41-.59l7.78-7.78 2.81-2.81c.8-.78.8-2.07 0-2.86zM5.41 20L4 18.59l7.72-7.72 1.47 1.35L5.41 20z\"/>\n",
              "  </svg>\n",
              "      </button>\n",
              "      \n",
              "  <style>\n",
              "    .colab-df-container {\n",
              "      display:flex;\n",
              "      flex-wrap:wrap;\n",
              "      gap: 12px;\n",
              "    }\n",
              "\n",
              "    .colab-df-convert {\n",
              "      background-color: #E8F0FE;\n",
              "      border: none;\n",
              "      border-radius: 50%;\n",
              "      cursor: pointer;\n",
              "      display: none;\n",
              "      fill: #1967D2;\n",
              "      height: 32px;\n",
              "      padding: 0 0 0 0;\n",
              "      width: 32px;\n",
              "    }\n",
              "\n",
              "    .colab-df-convert:hover {\n",
              "      background-color: #E2EBFA;\n",
              "      box-shadow: 0px 1px 2px rgba(60, 64, 67, 0.3), 0px 1px 3px 1px rgba(60, 64, 67, 0.15);\n",
              "      fill: #174EA6;\n",
              "    }\n",
              "\n",
              "    [theme=dark] .colab-df-convert {\n",
              "      background-color: #3B4455;\n",
              "      fill: #D2E3FC;\n",
              "    }\n",
              "\n",
              "    [theme=dark] .colab-df-convert:hover {\n",
              "      background-color: #434B5C;\n",
              "      box-shadow: 0px 1px 3px 1px rgba(0, 0, 0, 0.15);\n",
              "      filter: drop-shadow(0px 1px 2px rgba(0, 0, 0, 0.3));\n",
              "      fill: #FFFFFF;\n",
              "    }\n",
              "  </style>\n",
              "\n",
              "      <script>\n",
              "        const buttonEl =\n",
              "          document.querySelector('#df-60439a29-fda2-4378-983a-140dc4c5f969 button.colab-df-convert');\n",
              "        buttonEl.style.display =\n",
              "          google.colab.kernel.accessAllowed ? 'block' : 'none';\n",
              "\n",
              "        async function convertToInteractive(key) {\n",
              "          const element = document.querySelector('#df-60439a29-fda2-4378-983a-140dc4c5f969');\n",
              "          const dataTable =\n",
              "            await google.colab.kernel.invokeFunction('convertToInteractive',\n",
              "                                                     [key], {});\n",
              "          if (!dataTable) return;\n",
              "\n",
              "          const docLinkHtml = 'Like what you see? Visit the ' +\n",
              "            '<a target=\"_blank\" href=https://colab.research.google.com/notebooks/data_table.ipynb>data table notebook</a>'\n",
              "            + ' to learn more about interactive tables.';\n",
              "          element.innerHTML = '';\n",
              "          dataTable['output_type'] = 'display_data';\n",
              "          await google.colab.output.renderOutput(dataTable, element);\n",
              "          const docLink = document.createElement('div');\n",
              "          docLink.innerHTML = docLinkHtml;\n",
              "          element.appendChild(docLink);\n",
              "        }\n",
              "      </script>\n",
              "    </div>\n",
              "  </div>\n",
              "  "
            ]
          },
          "metadata": {},
          "execution_count": 2
        }
      ],
      "source": [
        "%matplotlib inline\n",
        "\n",
        "# import some useful packages\n",
        "import pandas as pd\n",
        "import numpy as np\n",
        "from sklearn import linear_model\n",
        "import matplotlib.pyplot as plt\n",
        "from sklearn.preprocessing import StandardScaler\n",
        "from sklearn.model_selection import GridSearchCV\n",
        "import warnings\n",
        "warnings.filterwarnings('ignore')\n",
        "from sklearn.model_selection import train_test_split\n",
        "\n",
        "\n",
        "plt.style.use('seaborn-whitegrid')\n",
        "\n",
        "# read in data\n",
        "nlsy=pd.read_csv('https://github.com/Mixtape-Sessions/Machine-Learning/blob/main/Labs/data/nlsy97.csv?raw=true')\n",
        "nlsy"
      ]
    },
    {
      "cell_type": "code",
      "source": [],
      "metadata": {
        "id": "YpXNXXsWvg6u"
      },
      "execution_count": null,
      "outputs": []
    },
    {
      "cell_type": "code",
      "source": [],
      "metadata": {
        "id": "XZSjLUOhvhZh"
      },
      "execution_count": null,
      "outputs": []
    },
    {
      "cell_type": "markdown",
      "metadata": {
        "id": "wizaAK2iRf95"
      },
      "source": [
        "## Least squares benchmark"
      ]
    },
    {
      "cell_type": "code",
      "execution_count": 3,
      "metadata": {
        "id": "25-Dc3CdTQ-s"
      },
      "outputs": [],
      "source": [
        "# generate dictionary of transformations of education\n",
        "powerlist=[nlsy['educ']**j for j in np.arange(1,10)] # ten times square of education level\n",
        "X=pd.concat(powerlist,axis=1)\n",
        "X.columns = ['educ'+str(j) for j in np.arange(1,10)]\n",
        "# standardize our X matrix (doesn't matter for OLS, but will matter for lasso below)\n",
        "scaler = StandardScaler()\n",
        "scaler.fit(X)\n",
        "X_scaled = scaler.transform(X)\n",
        "\n",
        "# run least squares regression\n",
        "# instantiate and fite our regression object:\n",
        "reg=linear_model.LinearRegression().fit(X_scaled,nlsy['lnw_2016'])\n",
        "# generate predicted values\n",
        "yhat=reg.predict(X_scaled)"
      ]
    },
    {
      "cell_type": "code",
      "execution_count": 5,
      "metadata": {
        "id": "WwPztFomD_I_",
        "outputId": "ec5fcb2a-b34f-4d07-9e0d-a3ea05e56832",
        "colab": {
          "base_uri": "https://localhost:8080/"
        }
      },
      "outputs": [
        {
          "output_type": "stream",
          "name": "stdout",
          "text": [
            "    educ1  educ2  educ3   educ4    educ5     educ6       educ7        educ8  \\\n",
            "0       8     64    512    4096    32768    262144     2097152     16777216   \n",
            "1       9     81    729    6561    59049    531441     4782969     43046721   \n",
            "2      10    100   1000   10000   100000   1000000    10000000    100000000   \n",
            "3      11    121   1331   14641   161051   1771561    19487171    214358881   \n",
            "4      12    144   1728   20736   248832   2985984    35831808    429981696   \n",
            "5      13    169   2197   28561   371293   4826809    62748517    815730721   \n",
            "6      14    196   2744   38416   537824   7529536   105413504   1475789056   \n",
            "7      15    225   3375   50625   759375  11390625   170859375   2562890625   \n",
            "8      16    256   4096   65536  1048576  16777216   268435456   4294967296   \n",
            "9      17    289   4913   83521  1419857  24137569   410338673   6975757441   \n",
            "10     18    324   5832  104976  1889568  34012224   612220032  11019960576   \n",
            "11     19    361   6859  130321  2476099  47045881   893871739  16983563041   \n",
            "12     20    400   8000  160000  3200000  64000000  1280000000  25600000000   \n",
            "\n",
            "           educ9  \n",
            "0      134217728  \n",
            "1      387420489  \n",
            "2     1000000000  \n",
            "3     2357947691  \n",
            "4     5159780352  \n",
            "5    10604499373  \n",
            "6    20661046784  \n",
            "7    38443359375  \n",
            "8    68719476736  \n",
            "9   118587876497  \n",
            "10  198359290368  \n",
            "11  322687697779  \n",
            "12  512000000000  \n"
          ]
        }
      ],
      "source": [
        "# plot predicted values\n",
        "lnwbar=nlsy.groupby('educ')['lnw_2016'].mean() # log of wage rate by education group\n",
        "Xbar=pd.DataFrame({'educ':lnwbar.index.values})\n",
        "powerlist=[Xbar['educ']**j for j in np.arange(1,10)]\n",
        "Xbar=pd.concat(powerlist,axis=1)\n",
        "Xbar.columns = X.columns\n",
        "Xbar_scaled = scaler.transform(Xbar)\n",
        "ybarhat=reg.predict(Xbar_scaled)\n",
        "fig = plt.figure()\n",
        "ax = plt.axes()\n",
        "ax.plot(Xbar['educ1'],lnwbar,'bo',Xbar['educ1'],ybarhat,'g-');\n",
        "plt.title(\"ln Wages by Education in the NLSY\")\n",
        "plt.xlabel(\"years of schooling\")\n",
        "plt.ylabel(\"ln wages\");"
      ]
    },
    {
      "cell_type": "markdown",
      "metadata": {
        "id": "mtllIvMQ1V8X"
      },
      "source": [
        "As we can see, least squares linear regression can approximate any continuous function and can certainly be used for prediction. Include a rich enough set of transformations, and OLS predictions will yield unbiased estimates of the true ideal predictor, the conditional expectation function. But these estimates will be quite noisy. Penalized regression can greatly reduce the variance, at the expense of some bias. But if the bias reduction is great enough, the predictions can have lower MSE. Back to the whiteboard!\n"
      ]
    },
    {
      "cell_type": "markdown",
      "metadata": {
        "id": "eJZrKXiFRowv"
      },
      "source": [
        "## Lasso in action"
      ]
    },
    {
      "cell_type": "markdown",
      "metadata": {
        "id": "3zrJPzaPCkrm"
      },
      "source": [
        "Welcome back! Let's see lasso in action:"
      ]
    },
    {
      "cell_type": "code",
      "execution_count": 11,
      "metadata": {
        "id": "WpeyLwK8iV6k",
        "outputId": "dd45c073-b254-4480-a5bf-beaf322a7691",
        "colab": {
          "base_uri": "https://localhost:8080/"
        }
      },
      "outputs": [
        {
          "output_type": "stream",
          "name": "stdout",
          "text": [
            "{'alpha': 0.001, 'copy_X': True, 'fit_intercept': True, 'max_iter': 1000, 'normalize': 'deprecated', 'positive': False, 'precompute': False, 'random_state': None, 'selection': 'cyclic', 'tol': 0.0001, 'warm_start': False}\n",
            "[ 0.          0.13799397  0.16661037  0.          0.          0.\n",
            " -0.         -0.         -0.0951063 ]\n"
          ]
        }
      ],
      "source": [
        "# fit lasso with a couple of different alphas and plot results\n",
        "# instantiate and fite our lasso object\n",
        "lasso1 = linear_model.Lasso(alpha=.001,max_iter=1000).fit(X_scaled,nlsy['lnw_2016'])\n",
        "print(lasso1.get_params()) # this stors a bunch of parameters that is used in Lasso regression\n",
        "print(lasso1.coef_) # this stors the coefficients of features that is kept\n",
        "#generate predicted values\n",
        "ybarhat1=lasso1.predict(Xbar_scaled)\n",
        "\n",
        "# same thing but with a different alpha\n",
        "lasso2 = linear_model.Lasso(alpha=.01,max_iter=1000).fit(X_scaled,nlsy['lnw_2016'])\n",
        "ybarhat2=lasso2.predict(Xbar_scaled)"
      ]
    },
    {
      "cell_type": "markdown",
      "metadata": {
        "id": "FcrrwylQx0FI"
      },
      "source": [
        "Plot results"
      ]
    },
    {
      "cell_type": "code",
      "execution_count": 12,
      "metadata": {
        "id": "-Vk_qSIzxwsi",
        "outputId": "bba22534-efc6-41cf-bbd8-5692e6e70ee3",
        "colab": {
          "base_uri": "https://localhost:8080/",
          "height": 565
        }
      },
      "outputs": [
        {
          "output_type": "display_data",
          "data": {
            "text/plain": [
              "<Figure size 864x288 with 3 Axes>"
            ],
            "image/png": "[encoded data removed]"
          },
          "metadata": {}
        },
        {
          "output_type": "display_data",
          "data": {
            "text/plain": [
              "<Figure size 864x288 with 3 Axes>"
            ],
            "image/png": "[encoded data removed]"
          },
          "metadata": {}
        }
      ],
      "source": [
        "#@title\n",
        "fig1,(ax11,ax12,ax13) = plt.subplots(1,3,figsize=(12, 4))\n",
        "ax11.barh(Xbar.columns,reg.coef_,align='center');\n",
        "ax11.set_title(\"OLS coefficients\")\n",
        "ax11.set_xlabel(\"coefficient\")\n",
        "ax12.barh(Xbar.columns,lasso1.coef_,align='center');\n",
        "ax12.set_title(\"Lasso coefficients (alpha = {:.3f})\".format(lasso1.get_params()['alpha']))\n",
        "ax12.set_xlabel(\"coefficient\")\n",
        "ax13.barh(Xbar.columns,lasso2.coef_,align='center');\n",
        "ax13.set_title(\"Lasso coefficients (alpha = {:.2f})\".format(lasso2.get_params()['alpha']))\n",
        "ax13.set_xlabel(\"coefficient\")\n",
        "fig2,(ax21,ax22,ax23) = plt.subplots(1,3,figsize=(12,4))\n",
        "ax21.plot(Xbar['educ1'],lnwbar,'bo',Xbar['educ1'],ybarhat,'g-');\n",
        "ax21.set_title(\"ln Wages by Education in the NLSY\")\n",
        "ax21.set_xlabel(\"years of schooling\")\n",
        "ax21.set_ylabel(\"ln wages\");\n",
        "ax22.plot(Xbar['educ1'],lnwbar,'bo',Xbar['educ1'],ybarhat1,'g-');\n",
        "ax22.set_title(\"ln Wages by Education in the NLSY\")\n",
        "ax22.set_xlabel(\"years of schooling\")\n",
        "ax22.set_ylabel(\"ln wages\");\n",
        "ax23.plot(Xbar['educ1'],lnwbar,'bo',Xbar['educ1'],ybarhat2,'g-');\n",
        "ax23.set_title(\"ln Wages by Education in the NLSY\")\n",
        "ax23.set_xlabel(\"years of schooling\")\n",
        "ax23.set_ylabel(\"ln wages\");"
      ]
    },
    {
      "cell_type": "markdown",
      "metadata": {
        "id": "osbAl2I0znmx"
      },
      "source": [
        "Play around with different values for alpha to see how the fit changes!"
      ]
    },
    {
      "cell_type": "markdown",
      "metadata": {
        "id": "WLGCHAGPnce4"
      },
      "source": [
        "### Data-driven tuning parameters: Cross-validation"
      ]
    },
    {
      "cell_type": "markdown",
      "metadata": {
        "id": "HSbFFZLsuo9D"
      },
      "source": [
        "Quick trip back to the whiteboard!"
      ]
    },
    {
      "cell_type": "code",
      "execution_count": 14,
      "metadata": {
        "id": "YVaN9tFwnyMv",
        "outputId": "d2c1d603-5f84-414c-e557-3bcc52bb2150",
        "colab": {
          "base_uri": "https://localhost:8080/"
        }
      },
      "outputs": [
        {
          "output_type": "stream",
          "name": "stdout",
          "text": [
            "Best alpha:  0.014\n"
          ]
        }
      ],
      "source": [
        "# define grid for alpha\n",
        "alpha_grid = {'alpha': [.0001,.001,.002, .004, .006, .008, .01, .012, .014, .016 ,.018, .02 ],'max_iter': [100000]}\n",
        "# instantiate and fit our gridsearchcv object\n",
        "grid_search = GridSearchCV(linear_model.Lasso(),alpha_grid,cv=5,return_train_score=True).fit(X_scaled,nlsy['lnw_2016'])\n",
        "# print out the chosen value for alpha\n",
        "print(\"Best alpha: \",grid_search.best_estimator_.get_params()['alpha'])"
      ]
    },
    {
      "cell_type": "markdown",
      "metadata": {
        "id": "Q7r54SvPDz6P"
      },
      "source": [
        "### Lasso-guided variable selection\n",
        "For illustrative purposes we've been using lasso to determine the functional form for a single underlying regressor: education. But lasso's real power comes in selecting among a large number of regressors."
      ]
    },
    {
      "cell_type": "code",
      "execution_count": 26,
      "metadata": {
        "id": "gZyPjQ6XIIuD",
        "outputId": "7263ecf3-57e6-4255-e679-0a2c5afbaec6",
        "colab": {
          "base_uri": "https://localhost:8080/",
          "height": 425
        }
      },
      "outputs": [
        {
          "output_type": "error",
          "ename": "KeyboardInterrupt",
          "evalue": "ignored",
          "traceback": [
            "\u001b[0;31m---------------------------------------------------------------------------\u001b[0m",
            "\u001b[0;31mKeyboardInterrupt\u001b[0m                         Traceback (most recent call last)",
            "\u001b[0;32m<ipython-input-26-2348af7a7d84>\u001b[0m in \u001b[0;36m<module>\u001b[0;34m\u001b[0m\n\u001b[1;32m     10\u001b[0m \u001b[0;31m# Do cross-validated Lasso (the easy way!)\u001b[0m\u001b[0;34m\u001b[0m\u001b[0;34m\u001b[0m\u001b[0;34m\u001b[0m\u001b[0m\n\u001b[1;32m     11\u001b[0m \u001b[0;31m# instantiate and fit our lassocv object\u001b[0m\u001b[0;34m\u001b[0m\u001b[0;34m\u001b[0m\u001b[0;34m\u001b[0m\u001b[0m\n\u001b[0;32m---> 12\u001b[0;31m \u001b[0mlassocv\u001b[0m\u001b[0;34m=\u001b[0m\u001b[0mlinear_model\u001b[0m\u001b[0;34m.\u001b[0m\u001b[0mLassoCV\u001b[0m\u001b[0;34m(\u001b[0m\u001b[0mrandom_state\u001b[0m\u001b[0;34m=\u001b[0m\u001b[0;36m42\u001b[0m\u001b[0;34m,\u001b[0m \u001b[0mcv\u001b[0m\u001b[0;34m=\u001b[0m\u001b[0;36m5\u001b[0m\u001b[0;34m)\u001b[0m\u001b[0;34m.\u001b[0m\u001b[0mfit\u001b[0m\u001b[0;34m(\u001b[0m\u001b[0mX_train_scaled\u001b[0m\u001b[0;34m,\u001b[0m\u001b[0my_train\u001b[0m\u001b[0;34m)\u001b[0m\u001b[0;34m\u001b[0m\u001b[0;34m\u001b[0m\u001b[0m\n\u001b[0m\u001b[1;32m     13\u001b[0m \u001b[0;31m# print out the chosen value for alpha\u001b[0m\u001b[0;34m\u001b[0m\u001b[0;34m\u001b[0m\u001b[0;34m\u001b[0m\u001b[0m\n\u001b[1;32m     14\u001b[0m \u001b[0mprint\u001b[0m\u001b[0;34m(\u001b[0m\u001b[0;34m\"Chosen alpha: {:.3f}\"\u001b[0m\u001b[0;34m.\u001b[0m\u001b[0mformat\u001b[0m\u001b[0;34m(\u001b[0m\u001b[0mlassocv\u001b[0m\u001b[0;34m.\u001b[0m\u001b[0malpha_\u001b[0m\u001b[0;34m)\u001b[0m\u001b[0;34m)\u001b[0m\u001b[0;34m\u001b[0m\u001b[0;34m\u001b[0m\u001b[0m\n",
            "\u001b[0;32m/usr/local/lib/python3.8/dist-packages/sklearn/linear_model/_coordinate_descent.py\u001b[0m in \u001b[0;36mfit\u001b[0;34m(self, X, y, sample_weight)\u001b[0m\n\u001b[1;32m   1668\u001b[0m             \u001b[0;32mfor\u001b[0m \u001b[0mtrain\u001b[0m\u001b[0;34m,\u001b[0m \u001b[0mtest\u001b[0m \u001b[0;32min\u001b[0m \u001b[0mfolds\u001b[0m\u001b[0;34m\u001b[0m\u001b[0;34m\u001b[0m\u001b[0m\n\u001b[1;32m   1669\u001b[0m         )\n\u001b[0;32m-> 1670\u001b[0;31m         mse_paths = Parallel(\n\u001b[0m\u001b[1;32m   1671\u001b[0m             \u001b[0mn_jobs\u001b[0m\u001b[0;34m=\u001b[0m\u001b[0mself\u001b[0m\u001b[0;34m.\u001b[0m\u001b[0mn_jobs\u001b[0m\u001b[0;34m,\u001b[0m\u001b[0;34m\u001b[0m\u001b[0;34m\u001b[0m\u001b[0m\n\u001b[1;32m   1672\u001b[0m             \u001b[0mverbose\u001b[0m\u001b[0;34m=\u001b[0m\u001b[0mself\u001b[0m\u001b[0;34m.\u001b[0m\u001b[0mverbose\u001b[0m\u001b[0;34m,\u001b[0m\u001b[0;34m\u001b[0m\u001b[0;34m\u001b[0m\u001b[0m\n",
            "\u001b[0;32m/usr/local/lib/python3.8/dist-packages/joblib/parallel.py\u001b[0m in \u001b[0;36m__call__\u001b[0;34m(self, iterable)\u001b[0m\n\u001b[1;32m   1083\u001b[0m             \u001b[0;31m# remaining jobs.\u001b[0m\u001b[0;34m\u001b[0m\u001b[0;34m\u001b[0m\u001b[0;34m\u001b[0m\u001b[0m\n\u001b[1;32m   1084\u001b[0m             \u001b[0mself\u001b[0m\u001b[0;34m.\u001b[0m\u001b[0m_iterating\u001b[0m \u001b[0;34m=\u001b[0m \u001b[0;32mFalse\u001b[0m\u001b[0;34m\u001b[0m\u001b[0;34m\u001b[0m\u001b[0m\n\u001b[0;32m-> 1085\u001b[0;31m             \u001b[0;32mif\u001b[0m \u001b[0mself\u001b[0m\u001b[0;34m.\u001b[0m\u001b[0mdispatch_one_batch\u001b[0m\u001b[0;34m(\u001b[0m\u001b[0miterator\u001b[0m\u001b[0;34m)\u001b[0m\u001b[0;34m:\u001b[0m\u001b[0;34m\u001b[0m\u001b[0;34m\u001b[0m\u001b[0m\n\u001b[0m\u001b[1;32m   1086\u001b[0m                 \u001b[0mself\u001b[0m\u001b[0;34m.\u001b[0m\u001b[0m_iterating\u001b[0m \u001b[0;34m=\u001b[0m \u001b[0mself\u001b[0m\u001b[0;34m.\u001b[0m\u001b[0m_original_iterator\u001b[0m \u001b[0;32mis\u001b[0m \u001b[0;32mnot\u001b[0m \u001b[0;32mNone\u001b[0m\u001b[0;34m\u001b[0m\u001b[0;34m\u001b[0m\u001b[0m\n\u001b[1;32m   1087\u001b[0m \u001b[0;34m\u001b[0m\u001b[0m\n",
            "\u001b[0;32m/usr/local/lib/python3.8/dist-packages/joblib/parallel.py\u001b[0m in \u001b[0;36mdispatch_one_batch\u001b[0;34m(self, iterator)\u001b[0m\n\u001b[1;32m    899\u001b[0m                 \u001b[0;32mreturn\u001b[0m \u001b[0;32mFalse\u001b[0m\u001b[0;34m\u001b[0m\u001b[0;34m\u001b[0m\u001b[0m\n\u001b[1;32m    900\u001b[0m             \u001b[0;32melse\u001b[0m\u001b[0;34m:\u001b[0m\u001b[0;34m\u001b[0m\u001b[0;34m\u001b[0m\u001b[0m\n\u001b[0;32m--> 901\u001b[0;31m                 \u001b[0mself\u001b[0m\u001b[0;34m.\u001b[0m\u001b[0m_dispatch\u001b[0m\u001b[0;34m(\u001b[0m\u001b[0mtasks\u001b[0m\u001b[0;34m)\u001b[0m\u001b[0;34m\u001b[0m\u001b[0;34m\u001b[0m\u001b[0m\n\u001b[0m\u001b[1;32m    902\u001b[0m                 \u001b[0;32mreturn\u001b[0m \u001b[0;32mTrue\u001b[0m\u001b[0;34m\u001b[0m\u001b[0;34m\u001b[0m\u001b[0m\n\u001b[1;32m    903\u001b[0m \u001b[0;34m\u001b[0m\u001b[0m\n",
            "\u001b[0;32m/usr/local/lib/python3.8/dist-packages/joblib/parallel.py\u001b[0m in \u001b[0;36m_dispatch\u001b[0;34m(self, batch)\u001b[0m\n\u001b[1;32m    817\u001b[0m         \u001b[0;32mwith\u001b[0m \u001b[0mself\u001b[0m\u001b[0;34m.\u001b[0m\u001b[0m_lock\u001b[0m\u001b[0;34m:\u001b[0m\u001b[0;34m\u001b[0m\u001b[0;34m\u001b[0m\u001b[0m\n\u001b[1;32m    818\u001b[0m             \u001b[0mjob_idx\u001b[0m \u001b[0;34m=\u001b[0m \u001b[0mlen\u001b[0m\u001b[0;34m(\u001b[0m\u001b[0mself\u001b[0m\u001b[0;34m.\u001b[0m\u001b[0m_jobs\u001b[0m\u001b[0;34m)\u001b[0m\u001b[0;34m\u001b[0m\u001b[0;34m\u001b[0m\u001b[0m\n\u001b[0;32m--> 819\u001b[0;31m             \u001b[0mjob\u001b[0m \u001b[0;34m=\u001b[0m \u001b[0mself\u001b[0m\u001b[0;34m.\u001b[0m\u001b[0m_backend\u001b[0m\u001b[0;34m.\u001b[0m\u001b[0mapply_async\u001b[0m\u001b[0;34m(\u001b[0m\u001b[0mbatch\u001b[0m\u001b[0;34m,\u001b[0m \u001b[0mcallback\u001b[0m\u001b[0;34m=\u001b[0m\u001b[0mcb\u001b[0m\u001b[0;34m)\u001b[0m\u001b[0;34m\u001b[0m\u001b[0;34m\u001b[0m\u001b[0m\n\u001b[0m\u001b[1;32m    820\u001b[0m             \u001b[0;31m# A job can complete so quickly than its callback is\u001b[0m\u001b[0;34m\u001b[0m\u001b[0;34m\u001b[0m\u001b[0;34m\u001b[0m\u001b[0m\n\u001b[1;32m    821\u001b[0m             \u001b[0;31m# called before we get here, causing self._jobs to\u001b[0m\u001b[0;34m\u001b[0m\u001b[0;34m\u001b[0m\u001b[0;34m\u001b[0m\u001b[0m\n",
            "\u001b[0;32m/usr/local/lib/python3.8/dist-packages/joblib/_parallel_backends.py\u001b[0m in \u001b[0;36mapply_async\u001b[0;34m(self, func, callback)\u001b[0m\n\u001b[1;32m    206\u001b[0m     \u001b[0;32mdef\u001b[0m \u001b[0mapply_async\u001b[0m\u001b[0;34m(\u001b[0m\u001b[0mself\u001b[0m\u001b[0;34m,\u001b[0m \u001b[0mfunc\u001b[0m\u001b[0;34m,\u001b[0m \u001b[0mcallback\u001b[0m\u001b[0;34m=\u001b[0m\u001b[0;32mNone\u001b[0m\u001b[0;34m)\u001b[0m\u001b[0;34m:\u001b[0m\u001b[0;34m\u001b[0m\u001b[0;34m\u001b[0m\u001b[0m\n\u001b[1;32m    207\u001b[0m         \u001b[0;34m\"\"\"Schedule a func to be run\"\"\"\u001b[0m\u001b[0;34m\u001b[0m\u001b[0;34m\u001b[0m\u001b[0m\n\u001b[0;32m--> 208\u001b[0;31m         \u001b[0mresult\u001b[0m \u001b[0;34m=\u001b[0m \u001b[0mImmediateResult\u001b[0m\u001b[0;34m(\u001b[0m\u001b[0mfunc\u001b[0m\u001b[0;34m)\u001b[0m\u001b[0;34m\u001b[0m\u001b[0;34m\u001b[0m\u001b[0m\n\u001b[0m\u001b[1;32m    209\u001b[0m         \u001b[0;32mif\u001b[0m \u001b[0mcallback\u001b[0m\u001b[0;34m:\u001b[0m\u001b[0;34m\u001b[0m\u001b[0;34m\u001b[0m\u001b[0m\n\u001b[1;32m    210\u001b[0m             \u001b[0mcallback\u001b[0m\u001b[0;34m(\u001b[0m\u001b[0mresult\u001b[0m\u001b[0;34m)\u001b[0m\u001b[0;34m\u001b[0m\u001b[0;34m\u001b[0m\u001b[0m\n",
            "\u001b[0;32m/usr/local/lib/python3.8/dist-packages/joblib/_parallel_backends.py\u001b[0m in \u001b[0;36m__init__\u001b[0;34m(self, batch)\u001b[0m\n\u001b[1;32m    595\u001b[0m         \u001b[0;31m# Don't delay the application, to avoid keeping the input\u001b[0m\u001b[0;34m\u001b[0m\u001b[0;34m\u001b[0m\u001b[0;34m\u001b[0m\u001b[0m\n\u001b[1;32m    596\u001b[0m         \u001b[0;31m# arguments in memory\u001b[0m\u001b[0;34m\u001b[0m\u001b[0;34m\u001b[0m\u001b[0;34m\u001b[0m\u001b[0m\n\u001b[0;32m--> 597\u001b[0;31m         \u001b[0mself\u001b[0m\u001b[0;34m.\u001b[0m\u001b[0mresults\u001b[0m \u001b[0;34m=\u001b[0m \u001b[0mbatch\u001b[0m\u001b[0;34m(\u001b[0m\u001b[0;34m)\u001b[0m\u001b[0;34m\u001b[0m\u001b[0;34m\u001b[0m\u001b[0m\n\u001b[0m\u001b[1;32m    598\u001b[0m \u001b[0;34m\u001b[0m\u001b[0m\n\u001b[1;32m    599\u001b[0m     \u001b[0;32mdef\u001b[0m \u001b[0mget\u001b[0m\u001b[0;34m(\u001b[0m\u001b[0mself\u001b[0m\u001b[0;34m)\u001b[0m\u001b[0;34m:\u001b[0m\u001b[0;34m\u001b[0m\u001b[0;34m\u001b[0m\u001b[0m\n",
            "\u001b[0;32m/usr/local/lib/python3.8/dist-packages/joblib/parallel.py\u001b[0m in \u001b[0;36m__call__\u001b[0;34m(self)\u001b[0m\n\u001b[1;32m    286\u001b[0m         \u001b[0;31m# change the default number of processes to -1\u001b[0m\u001b[0;34m\u001b[0m\u001b[0;34m\u001b[0m\u001b[0;34m\u001b[0m\u001b[0m\n\u001b[1;32m    287\u001b[0m         \u001b[0;32mwith\u001b[0m \u001b[0mparallel_backend\u001b[0m\u001b[0;34m(\u001b[0m\u001b[0mself\u001b[0m\u001b[0;34m.\u001b[0m\u001b[0m_backend\u001b[0m\u001b[0;34m,\u001b[0m \u001b[0mn_jobs\u001b[0m\u001b[0;34m=\u001b[0m\u001b[0mself\u001b[0m\u001b[0;34m.\u001b[0m\u001b[0m_n_jobs\u001b[0m\u001b[0;34m)\u001b[0m\u001b[0;34m:\u001b[0m\u001b[0;34m\u001b[0m\u001b[0;34m\u001b[0m\u001b[0m\n\u001b[0;32m--> 288\u001b[0;31m             return [func(*args, **kwargs)\n\u001b[0m\u001b[1;32m    289\u001b[0m                     for func, args, kwargs in self.items]\n\u001b[1;32m    290\u001b[0m \u001b[0;34m\u001b[0m\u001b[0m\n",
            "\u001b[0;32m/usr/local/lib/python3.8/dist-packages/joblib/parallel.py\u001b[0m in \u001b[0;36m<listcomp>\u001b[0;34m(.0)\u001b[0m\n\u001b[1;32m    286\u001b[0m         \u001b[0;31m# change the default number of processes to -1\u001b[0m\u001b[0;34m\u001b[0m\u001b[0;34m\u001b[0m\u001b[0;34m\u001b[0m\u001b[0m\n\u001b[1;32m    287\u001b[0m         \u001b[0;32mwith\u001b[0m \u001b[0mparallel_backend\u001b[0m\u001b[0;34m(\u001b[0m\u001b[0mself\u001b[0m\u001b[0;34m.\u001b[0m\u001b[0m_backend\u001b[0m\u001b[0;34m,\u001b[0m \u001b[0mn_jobs\u001b[0m\u001b[0;34m=\u001b[0m\u001b[0mself\u001b[0m\u001b[0;34m.\u001b[0m\u001b[0m_n_jobs\u001b[0m\u001b[0;34m)\u001b[0m\u001b[0;34m:\u001b[0m\u001b[0;34m\u001b[0m\u001b[0;34m\u001b[0m\u001b[0m\n\u001b[0;32m--> 288\u001b[0;31m             return [func(*args, **kwargs)\n\u001b[0m\u001b[1;32m    289\u001b[0m                     for func, args, kwargs in self.items]\n\u001b[1;32m    290\u001b[0m \u001b[0;34m\u001b[0m\u001b[0m\n",
            "\u001b[0;32m/usr/local/lib/python3.8/dist-packages/sklearn/utils/fixes.py\u001b[0m in \u001b[0;36m__call__\u001b[0;34m(self, *args, **kwargs)\u001b[0m\n\u001b[1;32m    214\u001b[0m     \u001b[0;32mdef\u001b[0m \u001b[0m__call__\u001b[0m\u001b[0;34m(\u001b[0m\u001b[0mself\u001b[0m\u001b[0;34m,\u001b[0m \u001b[0;34m*\u001b[0m\u001b[0margs\u001b[0m\u001b[0;34m,\u001b[0m \u001b[0;34m**\u001b[0m\u001b[0mkwargs\u001b[0m\u001b[0;34m)\u001b[0m\u001b[0;34m:\u001b[0m\u001b[0;34m\u001b[0m\u001b[0;34m\u001b[0m\u001b[0m\n\u001b[1;32m    215\u001b[0m         \u001b[0;32mwith\u001b[0m \u001b[0mconfig_context\u001b[0m\u001b[0;34m(\u001b[0m\u001b[0;34m**\u001b[0m\u001b[0mself\u001b[0m\u001b[0;34m.\u001b[0m\u001b[0mconfig\u001b[0m\u001b[0;34m)\u001b[0m\u001b[0;34m:\u001b[0m\u001b[0;34m\u001b[0m\u001b[0;34m\u001b[0m\u001b[0m\n\u001b[0;32m--> 216\u001b[0;31m             \u001b[0;32mreturn\u001b[0m \u001b[0mself\u001b[0m\u001b[0;34m.\u001b[0m\u001b[0mfunction\u001b[0m\u001b[0;34m(\u001b[0m\u001b[0;34m*\u001b[0m\u001b[0margs\u001b[0m\u001b[0;34m,\u001b[0m \u001b[0;34m**\u001b[0m\u001b[0mkwargs\u001b[0m\u001b[0;34m)\u001b[0m\u001b[0;34m\u001b[0m\u001b[0;34m\u001b[0m\u001b[0m\n\u001b[0m\u001b[1;32m    217\u001b[0m \u001b[0;34m\u001b[0m\u001b[0m\n\u001b[1;32m    218\u001b[0m \u001b[0;34m\u001b[0m\u001b[0m\n",
            "\u001b[0;32m/usr/local/lib/python3.8/dist-packages/sklearn/linear_model/_coordinate_descent.py\u001b[0m in \u001b[0;36m_path_residuals\u001b[0;34m(X, y, sample_weight, train, test, normalize, fit_intercept, path, path_params, alphas, l1_ratio, X_order, dtype)\u001b[0m\n\u001b[1;32m   1400\u001b[0m     \u001b[0;31m# X is copied and a reference is kept here\u001b[0m\u001b[0;34m\u001b[0m\u001b[0;34m\u001b[0m\u001b[0;34m\u001b[0m\u001b[0m\n\u001b[1;32m   1401\u001b[0m     \u001b[0mX_train\u001b[0m \u001b[0;34m=\u001b[0m \u001b[0mcheck_array\u001b[0m\u001b[0;34m(\u001b[0m\u001b[0mX_train\u001b[0m\u001b[0;34m,\u001b[0m \u001b[0maccept_sparse\u001b[0m\u001b[0;34m=\u001b[0m\u001b[0;34m\"csc\"\u001b[0m\u001b[0;34m,\u001b[0m \u001b[0mdtype\u001b[0m\u001b[0;34m=\u001b[0m\u001b[0mdtype\u001b[0m\u001b[0;34m,\u001b[0m \u001b[0morder\u001b[0m\u001b[0;34m=\u001b[0m\u001b[0mX_order\u001b[0m\u001b[0;34m)\u001b[0m\u001b[0;34m\u001b[0m\u001b[0;34m\u001b[0m\u001b[0m\n\u001b[0;32m-> 1402\u001b[0;31m     \u001b[0malphas\u001b[0m\u001b[0;34m,\u001b[0m \u001b[0mcoefs\u001b[0m\u001b[0;34m,\u001b[0m \u001b[0m_\u001b[0m \u001b[0;34m=\u001b[0m \u001b[0mpath\u001b[0m\u001b[0;34m(\u001b[0m\u001b[0mX_train\u001b[0m\u001b[0;34m,\u001b[0m \u001b[0my_train\u001b[0m\u001b[0;34m,\u001b[0m \u001b[0;34m**\u001b[0m\u001b[0mpath_params\u001b[0m\u001b[0;34m)\u001b[0m\u001b[0;34m\u001b[0m\u001b[0;34m\u001b[0m\u001b[0m\n\u001b[0m\u001b[1;32m   1403\u001b[0m     \u001b[0;32mdel\u001b[0m \u001b[0mX_train\u001b[0m\u001b[0;34m,\u001b[0m \u001b[0my_train\u001b[0m\u001b[0;34m\u001b[0m\u001b[0;34m\u001b[0m\u001b[0m\n\u001b[1;32m   1404\u001b[0m \u001b[0;34m\u001b[0m\u001b[0m\n",
            "\u001b[0;32m/usr/local/lib/python3.8/dist-packages/sklearn/linear_model/_coordinate_descent.py\u001b[0m in \u001b[0;36mlasso_path\u001b[0;34m(X, y, eps, n_alphas, alphas, precompute, Xy, copy_X, coef_init, verbose, return_n_iter, positive, **params)\u001b[0m\n\u001b[1;32m    347\u001b[0m      [0.2159048  0.4425765  0.23668876]]\n\u001b[1;32m    348\u001b[0m     \"\"\"\n\u001b[0;32m--> 349\u001b[0;31m     return enet_path(\n\u001b[0m\u001b[1;32m    350\u001b[0m         \u001b[0mX\u001b[0m\u001b[0;34m,\u001b[0m\u001b[0;34m\u001b[0m\u001b[0;34m\u001b[0m\u001b[0m\n\u001b[1;32m    351\u001b[0m         \u001b[0my\u001b[0m\u001b[0;34m,\u001b[0m\u001b[0;34m\u001b[0m\u001b[0;34m\u001b[0m\u001b[0m\n",
            "\u001b[0;32m/usr/local/lib/python3.8/dist-packages/sklearn/linear_model/_coordinate_descent.py\u001b[0m in \u001b[0;36menet_path\u001b[0;34m(X, y, l1_ratio, eps, n_alphas, alphas, precompute, Xy, copy_X, coef_init, verbose, return_n_iter, positive, check_input, **params)\u001b[0m\n\u001b[1;32m    645\u001b[0m             )\n\u001b[1;32m    646\u001b[0m         \u001b[0;32melif\u001b[0m \u001b[0mprecompute\u001b[0m \u001b[0;32mis\u001b[0m \u001b[0;32mFalse\u001b[0m\u001b[0;34m:\u001b[0m\u001b[0;34m\u001b[0m\u001b[0;34m\u001b[0m\u001b[0m\n\u001b[0;32m--> 647\u001b[0;31m             model = cd_fast.enet_coordinate_descent(\n\u001b[0m\u001b[1;32m    648\u001b[0m                 \u001b[0mcoef_\u001b[0m\u001b[0;34m,\u001b[0m \u001b[0ml1_reg\u001b[0m\u001b[0;34m,\u001b[0m \u001b[0ml2_reg\u001b[0m\u001b[0;34m,\u001b[0m \u001b[0mX\u001b[0m\u001b[0;34m,\u001b[0m \u001b[0my\u001b[0m\u001b[0;34m,\u001b[0m \u001b[0mmax_iter\u001b[0m\u001b[0;34m,\u001b[0m \u001b[0mtol\u001b[0m\u001b[0;34m,\u001b[0m \u001b[0mrng\u001b[0m\u001b[0;34m,\u001b[0m \u001b[0mrandom\u001b[0m\u001b[0;34m,\u001b[0m \u001b[0mpositive\u001b[0m\u001b[0;34m\u001b[0m\u001b[0;34m\u001b[0m\u001b[0m\n\u001b[1;32m    649\u001b[0m             )\n",
            "\u001b[0;32msklearn/linear_model/_cd_fast.pyx\u001b[0m in \u001b[0;36msklearn.linear_model._cd_fast.enet_coordinate_descent\u001b[0;34m()\u001b[0m\n",
            "\u001b[0;32m/usr/local/lib/python3.8/dist-packages/numpy/core/getlimits.py\u001b[0m in \u001b[0;36m__new__\u001b[0;34m(cls, dtype)\u001b[0m\n\u001b[1;32m    456\u001b[0m \u001b[0;34m\u001b[0m\u001b[0m\n\u001b[1;32m    457\u001b[0m     \u001b[0;32mdef\u001b[0m \u001b[0m__new__\u001b[0m\u001b[0;34m(\u001b[0m\u001b[0mcls\u001b[0m\u001b[0;34m,\u001b[0m \u001b[0mdtype\u001b[0m\u001b[0;34m)\u001b[0m\u001b[0;34m:\u001b[0m\u001b[0;34m\u001b[0m\u001b[0;34m\u001b[0m\u001b[0m\n\u001b[0;32m--> 458\u001b[0;31m         \u001b[0;32mtry\u001b[0m\u001b[0;34m:\u001b[0m\u001b[0;34m\u001b[0m\u001b[0;34m\u001b[0m\u001b[0m\n\u001b[0m\u001b[1;32m    459\u001b[0m             \u001b[0mdtype\u001b[0m \u001b[0;34m=\u001b[0m \u001b[0mnumeric\u001b[0m\u001b[0;34m.\u001b[0m\u001b[0mdtype\u001b[0m\u001b[0;34m(\u001b[0m\u001b[0mdtype\u001b[0m\u001b[0;34m)\u001b[0m\u001b[0;34m\u001b[0m\u001b[0;34m\u001b[0m\u001b[0m\n\u001b[1;32m    460\u001b[0m         \u001b[0;32mexcept\u001b[0m \u001b[0mTypeError\u001b[0m\u001b[0;34m:\u001b[0m\u001b[0;34m\u001b[0m\u001b[0;34m\u001b[0m\u001b[0m\n",
            "\u001b[0;31mKeyboardInterrupt\u001b[0m: "
          ]
        }
      ],
      "source": [
        "# Define \"menu\" of regressors:\n",
        "X=nlsy.drop(columns=['lnw_2016','exp'])\n",
        "\n",
        "# Divide into training and test set so we can honestly gauge predictive accuracy\n",
        "X_train, X_test, y_train, y_test = train_test_split(X, nlsy['lnw_2016'],random_state=42) # By default, 75% will be train\n",
        "# Scale regressors\n",
        "scaler.fit(X_train)\n",
        "X_train_scaled = scaler.transform(X_train)\n",
        "X_test_scaled = scaler.transform(X_test)\n",
        "# Do cross-validated Lasso (the easy way!)\n",
        "# instantiate and fit our lassocv object\n",
        "lassocv=linear_model.LassoCV(random_state=42, cv=5).fit(X_train_scaled,y_train)\n",
        "# print out the chosen value for alpha\n",
        "print(\"Chosen alpha: {:.3f}\".format(lassocv.alpha_))\n",
        "# print the original number of regressors and the number selected by lasso\n",
        "print(\"Number of regressors in the menu: \",len(X.columns))\n",
        "print(\"Number of regressors selected by lasso: \",sum(lassocv.coef_!=0))\n",
        "# print out accuracy on training and test test\n",
        "print(\"Accuracy on training set: {:.3f}\".format(lassocv.score(X_train_scaled,y_train)))\n",
        "print(\"Accuracy on test set: {:.3f}\".format(lassocv.score(X_test_scaled,y_test)))\n",
        "# look at the coefficients\n",
        "results = pd.DataFrame({'feature': X.columns[lassocv.coef_!=0],'coefficient': lassocv.coef_[lassocv.coef_!=0]})\n",
        "results"
      ]
    },
    {
      "cell_type": "markdown",
      "metadata": {
        "id": "YDMH-869NLKF"
      },
      "source": [
        "To try on your own: load the Oregon HIE data from earlier and try lassoing the OLS regression we did there. What do you notice?\n"
      ]
    },
    {
      "cell_type": "code",
      "execution_count": 16,
      "metadata": {
        "id": "eczzwQy0R9Cu"
      },
      "outputs": [],
      "source": [
        "# Load Oregon HIE data . . ."
      ]
    },
    {
      "cell_type": "markdown",
      "metadata": {
        "id": "88wfVz0KozvT"
      },
      "source": [
        "## Ridge regression\n",
        "First, whiteboard. Ridge is another flavor of penalized regression, like lasso. But unlike lasso, ridge penalizes the squares (not the absolute values) of the coefficients. As a result, ridge shrinks coefficients toward zero, but not all the way. Let's give it a try."
      ]
    },
    {
      "cell_type": "code",
      "execution_count": 24,
      "metadata": {
        "id": "Idti1cNTpG28",
        "outputId": "dba491f6-ade7-497c-af22-7762629860cf",
        "colab": {
          "base_uri": "https://localhost:8080/",
          "height": 513
        }
      },
      "outputs": [
        {
          "output_type": "stream",
          "name": "stdout",
          "text": [
            "Chosen alpha: 1.000\n",
            "Number of regressors in the menu:  992\n",
            "Number of regressors selected by lasso:  912\n",
            "Accuracy on training set: 0.755\n",
            "Accuracy on test set: -2.748\n"
          ]
        },
        {
          "output_type": "execute_result",
          "data": {
            "text/plain": [
              "       feature  coefficient\n",
              "0         educ    -0.154568\n",
              "1        black     0.015065\n",
              "2     hispanic     0.128092\n",
              "3        other    -0.023078\n",
              "4         afqt     0.094838\n",
              "..         ...          ...\n",
              "907  _XPexp_19    -0.032415\n",
              "908  _XPexp_20    -0.078016\n",
              "909  _XPexp_21    -0.038253\n",
              "910  _XPexp_22    -0.060542\n",
              "911  _XPexp_23    -0.069111\n",
              "\n",
              "[912 rows x 2 columns]"
            ],
            "text/html": [
              "\n",
              "  <div id=\"df-38f42861-b4b2-4d1a-9bcd-1cf387656c3f\">\n",
              "    <div class=\"colab-df-container\">\n",
              "      <div>\n",
              "<style scoped>\n",
              "    .dataframe tbody tr th:only-of-type {\n",
              "        vertical-align: middle;\n",
              "    }\n",
              "\n",
              "    .dataframe tbody tr th {\n",
              "        vertical-align: top;\n",
              "    }\n",
              "\n",
              "    .dataframe thead th {\n",
              "        text-align: right;\n",
              "    }\n",
              "</style>\n",
              "<table border=\"1\" class=\"dataframe\">\n",
              "  <thead>\n",
              "    <tr style=\"text-align: right;\">\n",
              "      <th></th>\n",
              "      <th>feature</th>\n",
              "      <th>coefficient</th>\n",
              "    </tr>\n",
              "  </thead>\n",
              "  <tbody>\n",
              "    <tr>\n",
              "      <th>0</th>\n",
              "      <td>educ</td>\n",
              "      <td>-0.154568</td>\n",
              "    </tr>\n",
              "    <tr>\n",
              "      <th>1</th>\n",
              "      <td>black</td>\n",
              "      <td>0.015065</td>\n",
              "    </tr>\n",
              "    <tr>\n",
              "      <th>2</th>\n",
              "      <td>hispanic</td>\n",
              "      <td>0.128092</td>\n",
              "    </tr>\n",
              "    <tr>\n",
              "      <th>3</th>\n",
              "      <td>other</td>\n",
              "      <td>-0.023078</td>\n",
              "    </tr>\n",
              "    <tr>\n",
              "      <th>4</th>\n",
              "      <td>afqt</td>\n",
              "      <td>0.094838</td>\n",
              "    </tr>\n",
              "    <tr>\n",
              "      <th>...</th>\n",
              "      <td>...</td>\n",
              "      <td>...</td>\n",
              "    </tr>\n",
              "    <tr>\n",
              "      <th>907</th>\n",
              "      <td>_XPexp_19</td>\n",
              "      <td>-0.032415</td>\n",
              "    </tr>\n",
              "    <tr>\n",
              "      <th>908</th>\n",
              "      <td>_XPexp_20</td>\n",
              "      <td>-0.078016</td>\n",
              "    </tr>\n",
              "    <tr>\n",
              "      <th>909</th>\n",
              "      <td>_XPexp_21</td>\n",
              "      <td>-0.038253</td>\n",
              "    </tr>\n",
              "    <tr>\n",
              "      <th>910</th>\n",
              "      <td>_XPexp_22</td>\n",
              "      <td>-0.060542</td>\n",
              "    </tr>\n",
              "    <tr>\n",
              "      <th>911</th>\n",
              "      <td>_XPexp_23</td>\n",
              "      <td>-0.069111</td>\n",
              "    </tr>\n",
              "  </tbody>\n",
              "</table>\n",
              "<p>912 rows × 2 columns</p>\n",
              "</div>\n",
              "      <button class=\"colab-df-convert\" onclick=\"convertToInteractive('df-38f42861-b4b2-4d1a-9bcd-1cf387656c3f')\"\n",
              "              title=\"Convert this dataframe to an interactive table.\"\n",
              "              style=\"display:none;\">\n",
              "        \n",
              "  <svg xmlns=\"http://www.w3.org/2000/svg\" height=\"24px\"viewBox=\"0 0 24 24\"\n",
              "       width=\"24px\">\n",
              "    <path d=\"M0 0h24v24H0V0z\" fill=\"none\"/>\n",
              "    <path d=\"M18.56 5.44l.94 2.06.94-2.06 2.06-.94-2.06-.94-.94-2.06-.94 2.06-2.06.94zm-11 1L8.5 8.5l.94-2.06 2.06-.94-2.06-.94L8.5 2.5l-.94 2.06-2.06.94zm10 10l.94 2.06.94-2.06 2.06-.94-2.06-.94-.94-2.06-.94 2.06-2.06.94z\"/><path d=\"M17.41 7.96l-1.37-1.37c-.4-.4-.92-.59-1.43-.59-.52 0-1.04.2-1.43.59L10.3 9.45l-7.72 7.72c-.78.78-.78 2.05 0 2.83L4 21.41c.39.39.9.59 1.41.59.51 0 1.02-.2 1.41-.59l7.78-7.78 2.81-2.81c.8-.78.8-2.07 0-2.86zM5.41 20L4 18.59l7.72-7.72 1.47 1.35L5.41 20z\"/>\n",
              "  </svg>\n",
              "      </button>\n",
              "      \n",
              "  <style>\n",
              "    .colab-df-container {\n",
              "      display:flex;\n",
              "      flex-wrap:wrap;\n",
              "      gap: 12px;\n",
              "    }\n",
              "\n",
              "    .colab-df-convert {\n",
              "      background-color: #E8F0FE;\n",
              "      border: none;\n",
              "      border-radius: 50%;\n",
              "      cursor: pointer;\n",
              "      display: none;\n",
              "      fill: #1967D2;\n",
              "      height: 32px;\n",
              "      padding: 0 0 0 0;\n",
              "      width: 32px;\n",
              "    }\n",
              "\n",
              "    .colab-df-convert:hover {\n",
              "      background-color: #E2EBFA;\n",
              "      box-shadow: 0px 1px 2px rgba(60, 64, 67, 0.3), 0px 1px 3px 1px rgba(60, 64, 67, 0.15);\n",
              "      fill: #174EA6;\n",
              "    }\n",
              "\n",
              "    [theme=dark] .colab-df-convert {\n",
              "      background-color: #3B4455;\n",
              "      fill: #D2E3FC;\n",
              "    }\n",
              "\n",
              "    [theme=dark] .colab-df-convert:hover {\n",
              "      background-color: #434B5C;\n",
              "      box-shadow: 0px 1px 3px 1px rgba(0, 0, 0, 0.15);\n",
              "      filter: drop-shadow(0px 1px 2px rgba(0, 0, 0, 0.3));\n",
              "      fill: #FFFFFF;\n",
              "    }\n",
              "  </style>\n",
              "\n",
              "      <script>\n",
              "        const buttonEl =\n",
              "          document.querySelector('#df-38f42861-b4b2-4d1a-9bcd-1cf387656c3f button.colab-df-convert');\n",
              "        buttonEl.style.display =\n",
              "          google.colab.kernel.accessAllowed ? 'block' : 'none';\n",
              "\n",
              "        async function convertToInteractive(key) {\n",
              "          const element = document.querySelector('#df-38f42861-b4b2-4d1a-9bcd-1cf387656c3f');\n",
              "          const dataTable =\n",
              "            await google.colab.kernel.invokeFunction('convertToInteractive',\n",
              "                                                     [key], {});\n",
              "          if (!dataTable) return;\n",
              "\n",
              "          const docLinkHtml = 'Like what you see? Visit the ' +\n",
              "            '<a target=\"_blank\" href=https://colab.research.google.com/notebooks/data_table.ipynb>data table notebook</a>'\n",
              "            + ' to learn more about interactive tables.';\n",
              "          element.innerHTML = '';\n",
              "          dataTable['output_type'] = 'display_data';\n",
              "          await google.colab.output.renderOutput(dataTable, element);\n",
              "          const docLink = document.createElement('div');\n",
              "          docLink.innerHTML = docLinkHtml;\n",
              "          element.appendChild(docLink);\n",
              "        }\n",
              "      </script>\n",
              "    </div>\n",
              "  </div>\n",
              "  "
            ]
          },
          "metadata": {},
          "execution_count": 24
        }
      ],
      "source": [
        "# Try it on your own first with the NLSY data! (Hint: instead of LassoCV, use RidgeCV(cv=5), and it doesn't let you set random_state. \n",
        "# Also, don't forget to define your X and y variables if you re-defined them with the Oregon HIE data)\n",
        "\n",
        "# Define \"menu\" of regressors:\n",
        "X=nlsy.drop(columns=['lnw_2016','exp'])\n",
        "\n",
        "# Divide into training and test set so we can honestly gauge predictive accuracy\n",
        "X_train, X_test, y_train, y_test = train_test_split(X, nlsy['lnw_2016'],random_state=42) # By default, 75% will be train\n",
        "# Scale regressors\n",
        "scaler.fit(X_train)\n",
        "X_train_scaled = scaler.transform(X_train)\n",
        "X_test_scaled = scaler.transform(X_test)\n",
        "# instantiate and fit your ridge object\n",
        "ridgecv=linear_model.RidgeCV(alphas=[1e-3, 1e-2, 1e-1, 1], cv=5).fit(X_train_scaled,y_train)\n",
        "# print out the chosen value for alpha\n",
        "print(\"Chosen alpha: {:.3f}\".format(ridgecv.alpha_))\n",
        "# print the original number of regressors and the number selected by lasso\n",
        "print(\"Number of regressors in the menu: \",len(X.columns))\n",
        "print(\"Number of regressors selected by ridge regression: \",sum(ridgecv.coef_!=0))\n",
        "# print out accuracy on training and test test\n",
        "print(\"Accuracy on training set: {:.3f}\".format(ridgecv.score(X_train_scaled,y_train)))\n",
        "print(\"Accuracy on test set: {:.3f}\".format(ridgecv.score(X_test_scaled,y_test)))\n",
        "# look at the coefficients\n",
        "results = pd.DataFrame({'feature': X.columns[ridgecv.coef_!=0],'coefficient': ridgecv.coef_[ridgecv.coef_!=0]})\n",
        "results\n",
        "# print accuracy on training set and test set\n",
        "\n",
        "# inspect the coefficients\n"
      ]
    },
    {
      "cell_type": "markdown",
      "metadata": {
        "id": "XcZtQsXipf9J"
      },
      "source": [
        "### Cheat"
      ]
    },
    {
      "cell_type": "code",
      "execution_count": null,
      "metadata": {
        "id": "0r517ruPpjOb"
      },
      "outputs": [],
      "source": [
        "ridgecv=linear_model.RidgeCV(cv=5,alphas=(.1,1,10,50,100,1000)).fit(X_train_scaled,y_train)\n",
        "print(\"Chosen alpha: {:.3f}\".format(ridgecv.alpha_))\n",
        "print(\"Accuracy on training set: {:.3f}\".format(ridgecv.score(X_train_scaled,y_train)))\n",
        "print(\"Accuracy on test set: {:.3f}\".format(ridgecv.score(X_test_scaled,y_test)))\n",
        "# look at the coefficients\n",
        "results = pd.DataFrame({'feature': X.columns[ridgecv.coef_!=0],'coefficient': ridgecv.coef_[ridgecv.coef_!=0]})\n",
        "results"
      ]
    },
    {
      "cell_type": "markdown",
      "metadata": {
        "id": "2rmCnmqRrTNt"
      },
      "source": [
        "### ...\n",
        "What do we learn about the relative performance of Lasso and Ridge in this setting? What could be the explanation?"
      ]
    },
    {
      "cell_type": "markdown",
      "metadata": {
        "id": "bQkGESRIrclS"
      },
      "source": [
        "One way to compare Lasso and Ridge, is to visualize their coefficients:"
      ]
    },
    {
      "cell_type": "code",
      "execution_count": 25,
      "metadata": {
        "id": "xZdMrWlvr2WK",
        "outputId": "44cd8710-e3c5-4216-de94-3edb412e4022",
        "colab": {
          "base_uri": "https://localhost:8080/",
          "height": 485
        }
      },
      "outputs": [
        {
          "output_type": "error",
          "ename": "NameError",
          "evalue": "ignored",
          "traceback": [
            "\u001b[0;31m---------------------------------------------------------------------------\u001b[0m",
            "\u001b[0;31mNameError\u001b[0m                                 Traceback (most recent call last)",
            "\u001b[0;32m<ipython-input-25-847cb63daecf>\u001b[0m in \u001b[0;36m<module>\u001b[0;34m\u001b[0m\n\u001b[1;32m      1\u001b[0m \u001b[0mplt\u001b[0m\u001b[0;34m.\u001b[0m\u001b[0mplot\u001b[0m\u001b[0;34m(\u001b[0m\u001b[0mridgecv\u001b[0m\u001b[0;34m.\u001b[0m\u001b[0mcoef_\u001b[0m\u001b[0;34m,\u001b[0m \u001b[0;34m's'\u001b[0m\u001b[0;34m,\u001b[0m \u001b[0mlabel\u001b[0m\u001b[0;34m=\u001b[0m\u001b[0;34m\"RidgeCV\"\u001b[0m\u001b[0;34m)\u001b[0m\u001b[0;34m\u001b[0m\u001b[0;34m\u001b[0m\u001b[0m\n\u001b[0;32m----> 2\u001b[0;31m \u001b[0mplt\u001b[0m\u001b[0;34m.\u001b[0m\u001b[0mplot\u001b[0m\u001b[0;34m(\u001b[0m\u001b[0mlassocv\u001b[0m\u001b[0;34m.\u001b[0m\u001b[0mcoef_\u001b[0m\u001b[0;34m,\u001b[0m \u001b[0;34m'o'\u001b[0m\u001b[0;34m,\u001b[0m \u001b[0mlabel\u001b[0m\u001b[0;34m=\u001b[0m\u001b[0;34m\"LassoCV\"\u001b[0m\u001b[0;34m)\u001b[0m\u001b[0;34m\u001b[0m\u001b[0;34m\u001b[0m\u001b[0m\n\u001b[0m\u001b[1;32m      3\u001b[0m \u001b[0mplt\u001b[0m\u001b[0;34m.\u001b[0m\u001b[0mxlabel\u001b[0m\u001b[0;34m(\u001b[0m\u001b[0;34m\"Coefficient index\"\u001b[0m\u001b[0;34m)\u001b[0m\u001b[0;34m\u001b[0m\u001b[0;34m\u001b[0m\u001b[0m\n\u001b[1;32m      4\u001b[0m \u001b[0mplt\u001b[0m\u001b[0;34m.\u001b[0m\u001b[0mylabel\u001b[0m\u001b[0;34m(\u001b[0m\u001b[0;34m\"Coefficient magnitude\"\u001b[0m\u001b[0;34m)\u001b[0m\u001b[0;34m\u001b[0m\u001b[0;34m\u001b[0m\u001b[0m\n\u001b[1;32m      5\u001b[0m \u001b[0mxlims\u001b[0m \u001b[0;34m=\u001b[0m \u001b[0mplt\u001b[0m\u001b[0;34m.\u001b[0m\u001b[0mxlim\u001b[0m\u001b[0;34m(\u001b[0m\u001b[0;34m)\u001b[0m\u001b[0;34m\u001b[0m\u001b[0;34m\u001b[0m\u001b[0m\n",
            "\u001b[0;31mNameError\u001b[0m: name 'lassocv' is not defined"
          ]
        },
        {
          "output_type": "display_data",
          "data": {
            "text/plain": [
              "<Figure size 432x288 with 1 Axes>"
            ],
            "image/png": "[encoded data removed]"
          },
          "metadata": {}
        }
      ],
      "source": [
        "plt.plot(ridgecv.coef_, 's', label=\"RidgeCV\")\n",
        "plt.plot(lassocv.coef_, 'o', label=\"LassoCV\")\n",
        "plt.xlabel(\"Coefficient index\")\n",
        "plt.ylabel(\"Coefficient magnitude\")\n",
        "xlims = plt.xlim()\n",
        "plt.hlines(0, xlims[0], xlims[1])\n",
        "plt.xlim(xlims)\n",
        "plt.legend()"
      ]
    },
    {
      "cell_type": "markdown",
      "metadata": {
        "id": "AImQVY7ws12d"
      },
      "source": [
        "## Elastic Net: best of both worlds?\n",
        "Elastic net combines lasso and ridge penalization. First, a bit of whiteboard, then let's give it a try."
      ]
    },
    {
      "cell_type": "code",
      "execution_count": null,
      "metadata": {
        "id": "xJUVDML4tBmK"
      },
      "outputs": [],
      "source": [
        "# Try it yourself first!\n",
        "\n",
        "# instantiate and fit your elasticnetcv object (hint: it's linear_model.ElasticNetCV,\n",
        "# and supply it a grid for the l1 ratio: l1_ratio=[.1, .5, .7, .9, .95, .99, 1]\n",
        "\n",
        "# print out the chosen l1 ratio and alpha\n",
        "\n",
        "# print out the original and selected number of regressors\n",
        "\n",
        "# print out accuracy in the training and test set\n",
        "\n",
        "# look at the coefficients\n",
        "\n",
        "\n"
      ]
    },
    {
      "cell_type": "markdown",
      "metadata": {
        "id": "qF34B5ittE_x"
      },
      "source": [
        "### Cheat"
      ]
    },
    {
      "cell_type": "code",
      "execution_count": null,
      "metadata": {
        "id": "hw1ZDHBTtGYx"
      },
      "outputs": [],
      "source": [
        "encv=linear_model.ElasticNetCV(random_state=42,l1_ratio=[.1, .5, .7, .9, .95, .99, 1]).fit(X_train_scaled,y_train)\n",
        "print(\"Chosen l1 ratio: {:.3f}\".format(encv.l1_ratio_))\n",
        "print(\"Chosen alpha: {:.3f}\".format(encv.alpha_))\n",
        "print(\"Number of regressors in the menu: \",len(X.columns))\n",
        "print(\"Number of regressors selected by elastic net: \",sum(encv.coef_!=0))\n",
        "print(\"Accuracy on training set: {:.3f}\".format(encv.score(X_train_scaled,y_train)))\n",
        "print(\"Accuracy on test set: {:.3f}\".format(encv.score(X_test_scaled,y_test)))\n",
        "# look at the coefficients\n",
        "results = pd.DataFrame({'feature': X.columns[encv.coef_!=0],'coefficient': encv.coef_[encv.coef_!=0]})\n",
        "results"
      ]
    },
    {
      "cell_type": "markdown",
      "metadata": {
        "id": "8uff-P-3v5aX"
      },
      "source": [
        "### ...\n",
        "Not surprisingly, it doesn't look terribly different from lasso."
      ]
    },
    {
      "cell_type": "markdown",
      "metadata": {
        "id": "FDNSEcQYwfhC"
      },
      "source": [
        "## Decision Trees and Random Forests\n",
        "First, a trip to the whiteboard"
      ]
    },
    {
      "cell_type": "markdown",
      "metadata": {
        "id": "0bAOPFex3mW3"
      },
      "source": [
        "Import some utilities:"
      ]
    },
    {
      "cell_type": "code",
      "execution_count": 28,
      "metadata": {
        "id": "1Pf7NHq_yYr7"
      },
      "outputs": [],
      "source": [
        "#@title\n",
        "import requests\n",
        "url1 = 'https://www.dropbox.com/s/jgml061manxpawo/plot_2d_separator.py?raw=true'\n",
        "url2 = 'https://www.dropbox.com/s/hlrrlwm4kt36awb/plot_interactive_tree.py?raw=true'\n",
        "url3 = 'https://www.dropbox.com/s/e2cy203sr30a59z/plot_helpers.py?raw=true'\n",
        "url4 = 'https://www.dropbox.com/s/aik5sgcwgz4brwn/tools.py?raw=true'\n",
        "r1 = requests.get(url1)\n",
        "r2 = requests.get(url2)\n",
        "r3 = requests.get(url3)\n",
        "r4 = requests.get(url4)\n",
        "\n",
        "# make sure your filename is the same as how you want to import \n",
        "with open('plot_2d_separator.py', 'w') as f1:\n",
        "    f1.write(r1.text)\n",
        "\n",
        "with open('plot_interactive_tree.py', 'w') as f2:\n",
        "    f2.write(r2.text)\n",
        "\n",
        "with open('plot_helpers.py', 'w') as f3:\n",
        "    f3.write(r3.text)\n",
        "\n",
        "with open('tools.py', 'w') as f4:\n",
        "    f4.write(r4.text)\n",
        "\n",
        "# now we can import\n",
        "import plot_helpers\n",
        "import tools\n",
        "import plot_2d_separator\n",
        "import plot_interactive_tree"
      ]
    },
    {
      "cell_type": "markdown",
      "metadata": {
        "id": "xkcy2fSU3s4f"
      },
      "source": [
        "Let's illustrate how random forests average over a collection of individual trees:"
      ]
    },
    {
      "cell_type": "code",
      "execution_count": 29,
      "metadata": {
        "id": "7e2Jy9y8agDw",
        "outputId": "1e2e6906-890a-40b9-f644-35a873c72fe9",
        "colab": {
          "base_uri": "https://localhost:8080/",
          "height": 1000
        }
      },
      "outputs": [
        {
          "output_type": "stream",
          "name": "stdout",
          "text": [
            "[[ 1.87756309  0.56839425]\n",
            " [ 0.36877983 -0.34894509]\n",
            " [ 0.96515318  0.10921819]\n",
            " [ 0.48599685  0.20291313]\n",
            " [ 1.72532644  0.53367598]\n",
            " [ 1.47976586  0.08726406]\n",
            " [ 2.11889248  0.60498388]\n",
            " [-0.74017805  0.49615542]\n",
            " [-0.38099245  1.34740194]\n",
            " [ 0.22944941  0.87981305]\n",
            " [ 1.31311917 -0.69665985]\n",
            " [ 0.87435391  0.83750547]\n",
            " [ 0.77145295 -0.69709227]\n",
            " [ 1.26285558  0.12916271]\n",
            " [-0.71988634  0.69106791]\n",
            " [ 0.79205253 -0.40516241]\n",
            " [ 1.31886119 -0.41396289]\n",
            " [ 0.26579093  0.78151982]\n",
            " [ 0.08686038  0.49400243]\n",
            " [-0.74872343 -0.06972957]\n",
            " [ 0.88404174 -0.35425773]\n",
            " [ 1.02671711  0.73292915]\n",
            " [ 0.73867317  0.30808589]\n",
            " [ 1.12856036  0.33191968]\n",
            " [ 1.15536561 -0.50593577]\n",
            " [ 1.56825139 -0.05911358]\n",
            " [ 0.29004812  1.00820293]\n",
            " [ 0.64076308 -0.19860992]\n",
            " [-1.20034998  0.46412528]\n",
            " [-0.16955317  0.60660877]\n",
            " [-0.53369875  0.50244086]\n",
            " [ 1.00549331  0.38686701]\n",
            " [ 0.65294065  0.80929512]\n",
            " [-0.56688607  0.73004641]\n",
            " [ 1.71942343  0.32909081]\n",
            " [ 0.96514959  0.51823046]\n",
            " [ 0.2683596  -0.11030872]\n",
            " [ 1.50917461 -0.06701048]\n",
            " [-0.59385445  0.46769065]\n",
            " [-1.06471178  0.5676387 ]\n",
            " [ 0.55039452  1.16554689]\n",
            " [-0.33860634  1.17004822]\n",
            " [-0.51699811  0.74457804]\n",
            " [-0.46333991  0.86330772]\n",
            " [ 1.68539175  0.33403724]\n",
            " [ 1.53286262 -0.03063104]\n",
            " [ 1.22313197 -0.36876898]\n",
            " [ 0.91466466 -0.50411496]\n",
            " [ 0.56006165 -0.16514053]\n",
            " [-1.18053783  0.20934501]\n",
            " [-0.04686928 -0.01567029]\n",
            " [ 1.38450053 -0.47647261]\n",
            " [ 0.97370054 -0.08631168]\n",
            " [-0.02909233 -0.0555109 ]\n",
            " [ 0.62049137  0.75230462]\n",
            " [ 1.76359619 -0.12578512]\n",
            " [ 0.06669088 -0.33949903]\n",
            " [ 1.65838571  0.21114881]\n",
            " [ 0.29244317  0.40428146]\n",
            " [ 0.48329861  0.35840485]\n",
            " [-0.35030318  0.94421706]\n",
            " [-0.4993884   0.13192906]\n",
            " [ 1.31702684 -0.2525239 ]\n",
            " [ 1.96337107 -0.23820389]\n",
            " [-1.1471254  -0.38663896]\n",
            " [ 1.68640884 -0.13364054]\n",
            " [-0.60690411  0.50000529]\n",
            " [-0.50082297  0.3628348 ]\n",
            " [-0.54220197  0.72334582]\n",
            " [-1.00731293  0.4130496 ]\n",
            " [ 0.89631194  0.55476594]\n",
            " [ 0.47389194  0.14587816]\n",
            " [ 2.2868162   0.47244271]\n",
            " [-0.18746498  0.86188606]\n",
            " [ 0.50782987  0.03923829]\n",
            " [-0.11290693  0.93361423]\n",
            " [ 0.91068654  0.12727649]\n",
            " [ 0.47093877 -0.09213003]\n",
            " [ 0.42598043 -0.3006242 ]\n",
            " [ 0.8729088   0.08643291]\n",
            " [ 0.31917808  0.05270298]\n",
            " [ 0.11767524  1.41784908]\n",
            " [ 0.73350617 -0.40980742]\n",
            " [ 0.04446489  0.9219238 ]\n",
            " [ 0.89715307  0.94175457]\n",
            " [-0.87006365  0.70686285]\n",
            " [-0.24608615  0.378107  ]\n",
            " [ 0.35940317  0.84867003]\n",
            " [-0.7280717   0.3259131 ]\n",
            " [ 1.89948318  0.79928869]\n",
            " [ 1.06821751  0.75846569]\n",
            " [-0.59533829  0.9611563 ]\n",
            " [ 1.11634545  0.01823342]\n",
            " [ 0.61281464  0.9800983 ]\n",
            " [ 0.65239007  0.38512423]\n",
            " [ 0.85716276  0.06644676]\n",
            " [ 0.61237738 -0.52619638]\n",
            " [-0.08661448 -0.03887081]\n",
            " [ 1.65954074  0.3480271 ]\n",
            " [ 0.01856462  1.32827802]]\n"
          ]
        },
        {
          "output_type": "execute_result",
          "data": {
            "text/plain": [
              "<graphviz.files.Source at 0x7f6543a19040>"
            ],
            "image/svg+xml": "<?xml version=\"1.0\" encoding=\"UTF-8\" standalone=\"no\"?>\n<!DOCTYPE svg PUBLIC \"-//W3C//DTD SVG 1.1//EN\"\n \"http://www.w3.org/Graphics/SVG/1.1/DTD/svg11.dtd\">\n<!-- Generated by graphviz version 2.43.0 (0)\n -->\n<!-- Title: Tree Pages: 1 -->\n<svg width=\"463pt\" height=\"313pt\"\n viewBox=\"0.00 0.00 463.00 313.00\" xmlns=\"http://www.w3.org/2000/svg\" xmlns:xlink=\"http://www.w3.org/1999/xlink\">\n<g id=\"graph0\" class=\"graph\" transform=\"scale(1 1) rotate(0) translate(4 309)\">\n<title>Tree</title>\n<polygon fill=\"white\" stroke=\"transparent\" points=\"-4,4 -4,-309 459,-309 459,4 -4,4\"/>\n<!-- 0 -->\n<g id=\"node1\" class=\"node\">\n<title>0</title>\n<polygon fill=\"#fafcfe\" stroke=\"black\" points=\"283,-305 173,-305 173,-252 283,-252 283,-305\"/>\n<text text-anchor=\"middle\" x=\"228\" y=\"-289.8\" font-family=\"Helvetica,sans-Serif\" font-size=\"14.00\">X[1] &lt;= 0.341</text>\n<text text-anchor=\"middle\" x=\"228\" y=\"-274.8\" font-family=\"Helvetica,sans-Serif\" font-size=\"14.00\">samples = 75</text>\n<text text-anchor=\"middle\" x=\"228\" y=\"-259.8\" font-family=\"Helvetica,sans-Serif\" font-size=\"14.00\">value = [37, 38]</text>\n</g>\n<!-- 1 -->\n<g id=\"node2\" class=\"node\">\n<title>1</title>\n<polygon fill=\"#5fb0ea\" stroke=\"black\" points=\"219.5,-216 116.5,-216 116.5,-163 219.5,-163 219.5,-216\"/>\n<text text-anchor=\"middle\" x=\"168\" y=\"-200.8\" font-family=\"Helvetica,sans-Serif\" font-size=\"14.00\">X[0] &lt;= &#45;0.617</text>\n<text text-anchor=\"middle\" x=\"168\" y=\"-185.8\" font-family=\"Helvetica,sans-Serif\" font-size=\"14.00\">samples = 37</text>\n<text text-anchor=\"middle\" x=\"168\" y=\"-170.8\" font-family=\"Helvetica,sans-Serif\" font-size=\"14.00\">value = [6, 31]</text>\n</g>\n<!-- 0&#45;&gt;1 -->\n<g id=\"edge1\" class=\"edge\">\n<title>0&#45;&gt;1</title>\n<path fill=\"none\" stroke=\"black\" d=\"M210.32,-251.87C204.45,-243.36 197.83,-233.75 191.59,-224.7\"/>\n<polygon fill=\"black\" stroke=\"black\" points=\"194.32,-222.49 185.76,-216.25 188.55,-226.47 194.32,-222.49\"/>\n<text text-anchor=\"middle\" x=\"181.24\" y=\"-237.14\" font-family=\"Helvetica,sans-Serif\" font-size=\"14.00\">True</text>\n</g>\n<!-- 6 -->\n<g id=\"node7\" class=\"node\">\n<title>6</title>\n<polygon fill=\"#eb9d66\" stroke=\"black\" points=\"340,-216 238,-216 238,-163 340,-163 340,-216\"/>\n<text text-anchor=\"middle\" x=\"289\" y=\"-200.8\" font-family=\"Helvetica,sans-Serif\" font-size=\"14.00\">X[0] &lt;= 1.769</text>\n<text text-anchor=\"middle\" x=\"289\" y=\"-185.8\" font-family=\"Helvetica,sans-Serif\" font-size=\"14.00\">samples = 38</text>\n<text text-anchor=\"middle\" x=\"289\" y=\"-170.8\" font-family=\"Helvetica,sans-Serif\" font-size=\"14.00\">value = [31, 7]</text>\n</g>\n<!-- 0&#45;&gt;6 -->\n<g id=\"edge6\" class=\"edge\">\n<title>0&#45;&gt;6</title>\n<path fill=\"none\" stroke=\"black\" d=\"M245.97,-251.87C251.94,-243.36 258.68,-233.75 265.02,-224.7\"/>\n<polygon fill=\"black\" stroke=\"black\" points=\"268.07,-226.45 270.95,-216.25 262.34,-222.43 268.07,-226.45\"/>\n<text text-anchor=\"middle\" x=\"275.27\" y=\"-237.17\" font-family=\"Helvetica,sans-Serif\" font-size=\"14.00\">False</text>\n</g>\n<!-- 2 -->\n<g id=\"node3\" class=\"node\">\n<title>2</title>\n<polygon fill=\"#e58139\" stroke=\"black\" points=\"98.5,-119.5 3.5,-119.5 3.5,-81.5 98.5,-81.5 98.5,-119.5\"/>\n<text text-anchor=\"middle\" x=\"51\" y=\"-104.3\" font-family=\"Helvetica,sans-Serif\" font-size=\"14.00\">samples = 2</text>\n<text text-anchor=\"middle\" x=\"51\" y=\"-89.3\" font-family=\"Helvetica,sans-Serif\" font-size=\"14.00\">value = [2, 0]</text>\n</g>\n<!-- 1&#45;&gt;2 -->\n<g id=\"edge2\" class=\"edge\">\n<title>1&#45;&gt;2</title>\n<path fill=\"none\" stroke=\"black\" d=\"M133.53,-162.87C117.72,-151.11 99.07,-137.25 83.51,-125.67\"/>\n<polygon fill=\"black\" stroke=\"black\" points=\"85.33,-122.67 75.22,-119.51 81.15,-128.28 85.33,-122.67\"/>\n</g>\n<!-- 3 -->\n<g id=\"node4\" class=\"node\">\n<title>3</title>\n<polygon fill=\"#53aae8\" stroke=\"black\" points=\"219,-127 117,-127 117,-74 219,-74 219,-127\"/>\n<text text-anchor=\"middle\" x=\"168\" y=\"-111.8\" font-family=\"Helvetica,sans-Serif\" font-size=\"14.00\">X[1] &lt;= 0.06</text>\n<text text-anchor=\"middle\" x=\"168\" y=\"-96.8\" font-family=\"Helvetica,sans-Serif\" font-size=\"14.00\">samples = 35</text>\n<text text-anchor=\"middle\" x=\"168\" y=\"-81.8\" font-family=\"Helvetica,sans-Serif\" font-size=\"14.00\">value = [4, 31]</text>\n</g>\n<!-- 1&#45;&gt;3 -->\n<g id=\"edge3\" class=\"edge\">\n<title>1&#45;&gt;3</title>\n<path fill=\"none\" stroke=\"black\" d=\"M168,-162.87C168,-154.89 168,-145.93 168,-137.38\"/>\n<polygon fill=\"black\" stroke=\"black\" points=\"171.5,-137.25 168,-127.25 164.5,-137.25 171.5,-137.25\"/>\n</g>\n<!-- 4 -->\n<g id=\"node5\" class=\"node\">\n<title>4</title>\n<polygon fill=\"#399de5\" stroke=\"black\" points=\"102,-38 0,-38 0,0 102,0 102,-38\"/>\n<text text-anchor=\"middle\" x=\"51\" y=\"-22.8\" font-family=\"Helvetica,sans-Serif\" font-size=\"14.00\">samples = 24</text>\n<text text-anchor=\"middle\" x=\"51\" y=\"-7.8\" font-family=\"Helvetica,sans-Serif\" font-size=\"14.00\">value = [0, 24]</text>\n</g>\n<!-- 3&#45;&gt;4 -->\n<g id=\"edge4\" class=\"edge\">\n<title>3&#45;&gt;4</title>\n<path fill=\"none\" stroke=\"black\" d=\"M130.34,-73.91C116.17,-64.29 100.14,-53.39 86.21,-43.92\"/>\n<polygon fill=\"black\" stroke=\"black\" points=\"88.08,-40.96 77.84,-38.24 84.15,-46.75 88.08,-40.96\"/>\n</g>\n<!-- 5 -->\n<g id=\"node6\" class=\"node\">\n<title>5</title>\n<polygon fill=\"#aad5f4\" stroke=\"black\" points=\"218,-38 120,-38 120,0 218,0 218,-38\"/>\n<text text-anchor=\"middle\" x=\"169\" y=\"-22.8\" font-family=\"Helvetica,sans-Serif\" font-size=\"14.00\">samples = 11</text>\n<text text-anchor=\"middle\" x=\"169\" y=\"-7.8\" font-family=\"Helvetica,sans-Serif\" font-size=\"14.00\">value = [4, 7]</text>\n</g>\n<!-- 3&#45;&gt;5 -->\n<g id=\"edge5\" class=\"edge\">\n<title>3&#45;&gt;5</title>\n<path fill=\"none\" stroke=\"black\" d=\"M168.32,-73.91C168.42,-65.74 168.54,-56.65 168.64,-48.3\"/>\n<polygon fill=\"black\" stroke=\"black\" points=\"172.14,-48.28 168.77,-38.24 165.14,-48.19 172.14,-48.28\"/>\n</g>\n<!-- 7 -->\n<g id=\"node8\" class=\"node\">\n<title>7</title>\n<polygon fill=\"#e89153\" stroke=\"black\" points=\"340,-127 238,-127 238,-74 340,-74 340,-127\"/>\n<text text-anchor=\"middle\" x=\"289\" y=\"-111.8\" font-family=\"Helvetica,sans-Serif\" font-size=\"14.00\">X[1] &lt;= 0.495</text>\n<text text-anchor=\"middle\" x=\"289\" y=\"-96.8\" font-family=\"Helvetica,sans-Serif\" font-size=\"14.00\">samples = 35</text>\n<text text-anchor=\"middle\" x=\"289\" y=\"-81.8\" font-family=\"Helvetica,sans-Serif\" font-size=\"14.00\">value = [31, 4]</text>\n</g>\n<!-- 6&#45;&gt;7 -->\n<g id=\"edge7\" class=\"edge\">\n<title>6&#45;&gt;7</title>\n<path fill=\"none\" stroke=\"black\" d=\"M289,-162.87C289,-154.89 289,-145.93 289,-137.38\"/>\n<polygon fill=\"black\" stroke=\"black\" points=\"292.5,-137.25 289,-127.25 285.5,-137.25 292.5,-137.25\"/>\n</g>\n<!-- 10 -->\n<g id=\"node11\" class=\"node\">\n<title>10</title>\n<polygon fill=\"#399de5\" stroke=\"black\" points=\"453.5,-119.5 358.5,-119.5 358.5,-81.5 453.5,-81.5 453.5,-119.5\"/>\n<text text-anchor=\"middle\" x=\"406\" y=\"-104.3\" font-family=\"Helvetica,sans-Serif\" font-size=\"14.00\">samples = 3</text>\n<text text-anchor=\"middle\" x=\"406\" y=\"-89.3\" font-family=\"Helvetica,sans-Serif\" font-size=\"14.00\">value = [0, 3]</text>\n</g>\n<!-- 6&#45;&gt;10 -->\n<g id=\"edge10\" class=\"edge\">\n<title>6&#45;&gt;10</title>\n<path fill=\"none\" stroke=\"black\" d=\"M323.47,-162.87C339.28,-151.11 357.93,-137.25 373.49,-125.67\"/>\n<polygon fill=\"black\" stroke=\"black\" points=\"375.85,-128.28 381.78,-119.51 371.67,-122.67 375.85,-128.28\"/>\n</g>\n<!-- 8 -->\n<g id=\"node9\" class=\"node\">\n<title>8</title>\n<polygon fill=\"#f2c09c\" stroke=\"black\" points=\"334.5,-38 239.5,-38 239.5,0 334.5,0 334.5,-38\"/>\n<text text-anchor=\"middle\" x=\"287\" y=\"-22.8\" font-family=\"Helvetica,sans-Serif\" font-size=\"14.00\">samples = 9</text>\n<text text-anchor=\"middle\" x=\"287\" y=\"-7.8\" font-family=\"Helvetica,sans-Serif\" font-size=\"14.00\">value = [6, 3]</text>\n</g>\n<!-- 7&#45;&gt;8 -->\n<g id=\"edge8\" class=\"edge\">\n<title>7&#45;&gt;8</title>\n<path fill=\"none\" stroke=\"black\" d=\"M288.36,-73.91C288.15,-65.74 287.92,-56.65 287.71,-48.3\"/>\n<polygon fill=\"black\" stroke=\"black\" points=\"291.21,-48.15 287.46,-38.24 284.21,-48.32 291.21,-48.15\"/>\n</g>\n<!-- 9 -->\n<g id=\"node10\" class=\"node\">\n<title>9</title>\n<polygon fill=\"#e68641\" stroke=\"black\" points=\"455,-38 353,-38 353,0 455,0 455,-38\"/>\n<text text-anchor=\"middle\" x=\"404\" y=\"-22.8\" font-family=\"Helvetica,sans-Serif\" font-size=\"14.00\">samples = 26</text>\n<text text-anchor=\"middle\" x=\"404\" y=\"-7.8\" font-family=\"Helvetica,sans-Serif\" font-size=\"14.00\">value = [25, 1]</text>\n</g>\n<!-- 7&#45;&gt;9 -->\n<g id=\"edge9\" class=\"edge\">\n<title>7&#45;&gt;9</title>\n<path fill=\"none\" stroke=\"black\" d=\"M326.02,-73.91C339.81,-64.38 355.4,-53.59 369.01,-44.19\"/>\n<polygon fill=\"black\" stroke=\"black\" points=\"371.38,-46.8 377.62,-38.24 367.4,-41.05 371.38,-46.8\"/>\n</g>\n</g>\n</svg>\n"
          },
          "metadata": {},
          "execution_count": 29
        },
        {
          "output_type": "display_data",
          "data": {
            "text/plain": [
              "<Figure size 864x576 with 1 Axes>"
            ],
            "image/png": "[encoded data removed]"
          },
          "metadata": {}
        }
      ],
      "source": [
        "from sklearn.tree import DecisionTreeClassifier\n",
        "from sklearn.ensemble import RandomForestClassifier\n",
        "from sklearn.tree import export_graphviz\n",
        "import graphviz\n",
        "from sklearn.datasets import make_moons\n",
        "\n",
        "Xfake, yfake = make_moons(n_samples=100, noise=0.25, random_state=3)\n",
        "print(Xfake)\n",
        "Xfake_train, Xfake_test, yfake_train, yfake_test = train_test_split(Xfake, yfake, stratify=yfake,\n",
        "                                                    random_state=42)\n",
        "\n",
        "#First a simple tree:\n",
        "tree = DecisionTreeClassifier(max_depth=3).fit(Xfake_train,yfake_train)\n",
        "fig1,ax = plt.subplots(1,1,figsize=(12, 8))\n",
        "plot_interactive_tree.plot_tree_partition(Xfake_train, yfake_train, tree, ax=ax)\n",
        "dot_data= export_graphviz(tree, out_file=None, impurity=False, filled=True)\n",
        "graph = graphviz.Source(dot_data) \n",
        "graph"
      ]
    },
    {
      "cell_type": "markdown",
      "metadata": {
        "id": "oDep9IE5vwul"
      },
      "source": [
        "We got trees down. Now to the whiteboard to talk about random forests"
      ]
    },
    {
      "cell_type": "code",
      "execution_count": null,
      "metadata": {
        "id": "ZdupDB5PuKEW"
      },
      "outputs": [],
      "source": [
        "# Now average over several trees:\n",
        "\n",
        "forest = RandomForestClassifier(n_estimators=5, random_state=2).fit(Xfake_train, yfake_train)\n",
        "\n",
        "fig, axes = plt.subplots(2, 3, figsize=(20, 10))\n",
        "for i, (ax, tree) in enumerate(zip(axes.ravel(), forest.estimators_)):\n",
        "    ax.set_title(\"Tree {}\".format(i))\n",
        "    plot_interactive_tree.plot_tree_partition(Xfake_train, yfake_train, tree, ax=ax)\n",
        "    \n",
        "plot_2d_separator.plot_2d_separator(forest, Xfake_train, fill=True, ax=axes[-1, -1],\n",
        "                                alpha=.4)\n",
        "axes[-1, -1].set_title(\"Random Forest\")\n",
        "plot_helpers.discrete_scatter(Xfake_train[:, 0], Xfake_train[:, 1], yfake_train)"
      ]
    },
    {
      "cell_type": "markdown",
      "metadata": {
        "id": "iVsT1WDaNAm6"
      },
      "source": [
        "Enough with fake data. Let's use random forests to predict wages in the NLSY, just as we did for Lasso, Ridge, and Elastic net. Try it on your own! Hint: we want RandomForestRegressor, not RandomForestClassifier. For bonus points, cross-validate random forest's tuning parameters using GridSearchCV."
      ]
    },
    {
      "cell_type": "code",
      "execution_count": null,
      "metadata": {
        "id": "Kg6HY2R9ieGU"
      },
      "outputs": [],
      "source": [
        "# Try it on your own!\n",
        "\n",
        "# Import the proper package\n",
        "\n",
        "# instantiate your random forest object and fit it\n",
        "\n",
        "# print out training set and test set accuracy"
      ]
    },
    {
      "cell_type": "markdown",
      "metadata": {
        "id": "TknHGNL0ihHX"
      },
      "source": [
        "### Cheat"
      ]
    },
    {
      "cell_type": "code",
      "execution_count": 30,
      "metadata": {
        "id": "eozvsxHDijQ2",
        "outputId": "4fddbf44-6f91-412f-8ae0-ba73d6894914",
        "colab": {
          "base_uri": "https://localhost:8080/"
        }
      },
      "outputs": [
        {
          "output_type": "stream",
          "name": "stdout",
          "text": [
            "Accuracy on training set: 0.872\n",
            "Accuracy on test set: 0.101\n"
          ]
        }
      ],
      "source": [
        "from sklearn.ensemble import RandomForestRegressor\n",
        "\n",
        "# First without cross-validating\n",
        "rf=RandomForestRegressor(random_state=42).fit(X_train,y_train)\n",
        "print(\"Accuracy on training set: {:.3f}\".format(rf.score(X_train,y_train)))\n",
        "print(\"Accuracy on test set: {:.3f}\".format(rf.score(X_test,y_test)))"
      ]
    },
    {
      "cell_type": "code",
      "execution_count": 31,
      "metadata": {
        "id": "1-y1osT_ldU5",
        "outputId": "8d7936b1-a345-4ace-df70-bc331566421d",
        "colab": {
          "base_uri": "https://localhost:8080/"
        }
      },
      "outputs": [
        {
          "output_type": "stream",
          "name": "stdout",
          "text": [
            "Best max_depth:  5\n",
            "Accuracy on training set: 0.353\n",
            "Accuracy on test set: 0.098\n"
          ]
        }
      ],
      "source": [
        "# Now with cross-validation\n",
        "# define grid for max_depth\n",
        "param_grid = {'max_depth': [5,10,100]}\n",
        "grid_searchrf = GridSearchCV(RandomForestRegressor(),param_grid,cv=5,return_train_score=True).fit(X_train,y_train)\n",
        "print(\"Best max_depth: \",grid_searchrf.best_estimator_.get_params()['max_depth'])\n",
        "print(\"Accuracy on training set: {:.3f}\".format(grid_searchrf.score(X_train,y_train)))\n",
        "print(\"Accuracy on test set: {:.3f}\".format(grid_searchrf.score(X_test,y_test)))\n",
        "\n",
        "# why did cv estimator perform badly than non-CV result"
      ]
    },
    {
      "cell_type": "markdown",
      "metadata": {
        "id": "91KmD2_Gnhhj"
      },
      "source": [
        "How does Random Forest compare with Lasso?"
      ]
    },
    {
      "cell_type": "code",
      "execution_count": null,
      "metadata": {
        "id": "UDxfTw76nt8z"
      },
      "outputs": [],
      "source": []
    }
  ],
  "metadata": {
    "colab": {
      "collapsed_sections": [
        "XcZtQsXipf9J",
        "qF34B5ittE_x",
        "TknHGNL0ihHX"
      ],
      "provenance": []
    },
    "kernelspec": {
      "display_name": "Python 3.10.8 64-bit",
      "language": "python",
      "name": "python3"
    },
    "language_info": {
      "codemirror_mode": {
        "name": "ipython",
        "version": 3
      },
      "file_extension": ".py",
      "mimetype": "text/x-python",
      "name": "python",
      "nbconvert_exporter": "python",
      "pygments_lexer": "ipython3",
      "version": "3.10.8"
    },
    "vscode": {
      "interpreter": {
        "hash": "b0fa6594d8f4cbf19f97940f81e996739fb7646882a419484c72d19e05852a7e"
      }
    }
  },
  "nbformat": 4,
  "nbformat_minor": 0
}