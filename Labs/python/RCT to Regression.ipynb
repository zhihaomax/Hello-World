{
  "cells": [
    {
      "cell_type": "markdown",
      "metadata": {
        "id": "YKjVXkOq5RvM"
      },
      "source": [
        "# RCTs to Regression"
      ]
    },
    {
      "cell_type": "markdown",
      "metadata": {
        "id": "t6alIsB5WwTh"
      },
      "source": [
        "[![Open in Colab](https://colab.research.google.com/assets/colab-badge.svg)](https://colab.research.google.com/github/Mixtape-Sessions/Machine-Learning/blob/main/Labs/python/RCT%20to%20Regression.ipynb)"
      ]
    },
    {
      "cell_type": "markdown",
      "metadata": {
        "id": "8jH8dcUuxtZx"
      },
      "source": [
        "## Gold standard: RCT"
      ]
    },
    {
      "cell_type": "markdown",
      "metadata": {
        "id": "KhnbzPkYx-k9"
      },
      "source": [
        "Treatment indicator: $D_i \\in \\left\\{0,1\\right\\}$\n",
        "> *example:* eligibility for expanded Medicaid\n",
        "\n",
        "Outcome: $Y_i$\n",
        "> *example:* number of doctor visits in past 6 months\n",
        "\n",
        "Potential outcomes $Y_i(0),Y_i(1)$\n",
        "\n",
        "Individual-level treatment effect $\\delta _{i}=Y_{i}\\left( 1\\right) -Y_{i}\\left( 0\\right) $ (can never know\n",
        "this).\n"
      ]
    },
    {
      "cell_type": "markdown",
      "metadata": {
        "id": "Gmzhwh_Pz-VJ"
      },
      "source": [
        "Unbiased estimate of average treatment effect:\n",
        "$$\n",
        "\\hat{\\delta}=\\bar{Y}_{1}-\\bar{Y}_{0},\n",
        "$$\n",
        "or OLS coefficient on $D_{i}$ from this regression:\n",
        "$$\n",
        "Y_{i}=\\alpha +\\delta D_{i}+\\varepsilon _{i}.\n",
        "$$"
      ]
    },
    {
      "cell_type": "markdown",
      "metadata": {
        "id": "Vh5p-yeb5RvP"
      },
      "source": [
        "Let's run it!"
      ]
    },
    {
      "cell_type": "code",
      "execution_count": 4,
      "metadata": {
        "id": "7IIIROqHoI4g",
        "outputId": "34c40b15-11be-4468-eb78-39e801acb5f2",
        "colab": {
          "base_uri": "https://localhost:8080/"
        }
      },
      "outputs": [
        {
          "output_type": "stream",
          "name": "stdout",
          "text": [
            "       ddddraw_sur_2  ddddraw_sur_3  ddddraw_sur_4  ddddraw_sur_5  \\\n",
            "0                  0              0              0              0   \n",
            "1                  0              0              0              0   \n",
            "2                  0              0              0              0   \n",
            "3                  0              1              0              0   \n",
            "4                  0              1              0              0   \n",
            "...              ...            ...            ...            ...   \n",
            "23736              0              0              0              0   \n",
            "23737              0              0              0              0   \n",
            "23738              0              1              0              0   \n",
            "23739              0              0              0              1   \n",
            "23740              0              0              0              0   \n",
            "\n",
            "       ddddraw_sur_6  ddddraw_sur_7  dddnumhh_li_2  dddnumhh_li_3  \\\n",
            "0                  1              0              0              0   \n",
            "1                  1              0              0              0   \n",
            "2                  0              1              0              0   \n",
            "3                  0              0              0              0   \n",
            "4                  0              0              1              0   \n",
            "...              ...            ...            ...            ...   \n",
            "23736              0              1              0              0   \n",
            "23737              0              1              0              0   \n",
            "23738              0              0              1              0   \n",
            "23739              0              0              0              0   \n",
            "23740              0              0              0              0   \n",
            "\n",
            "       ddddraXnum_2_2  ddddraXnum_2_3  ddddraXnum_3_2  ddddraXnum_3_3  \\\n",
            "0                   0               0               0               0   \n",
            "1                   0               0               0               0   \n",
            "2                   0               0               0               0   \n",
            "3                   0               0               0               0   \n",
            "4                   0               0               1               0   \n",
            "...               ...             ...             ...             ...   \n",
            "23736               0               0               0               0   \n",
            "23737               0               0               0               0   \n",
            "23738               0               0               1               0   \n",
            "23739               0               0               0               0   \n",
            "23740               0               0               0               0   \n",
            "\n",
            "       ddddraXnum_4_2  ddddraXnum_5_2  ddddraXnum_6_2  ddddraXnum_7_2  \n",
            "0                   0               0               0               0  \n",
            "1                   0               0               0               0  \n",
            "2                   0               0               0               0  \n",
            "3                   0               0               0               0  \n",
            "4                   0               0               0               0  \n",
            "...               ...             ...             ...             ...  \n",
            "23736               0               0               0               0  \n",
            "23737               0               0               0               0  \n",
            "23738               0               0               0               0  \n",
            "23739               0               0               0               0  \n",
            "23740               0               0               0               0  \n",
            "\n",
            "[23441 rows x 16 columns]\n"
          ]
        }
      ],
      "source": [
        "# import some useful packages\n",
        "import pandas as pd\n",
        "# import numpy as np\n",
        "from sklearn import linear_model\n",
        "\n",
        "# read in data\n",
        "oregonhie=pd.read_csv('https://github.com/Mixtape-Sessions/Machine-Learning/blob/main/Labs/data/oregon_hie_table5.csv?raw=true')\n",
        "\n",
        "# data cleaning: drop observations with missing values in any of the variables we are going to need: \n",
        "regvarnames=['doc_num','treatment','weight']+[col for col in oregonhie if col.startswith('ddd')]\n",
        "regvars=oregonhie[regvarnames].dropna()\n",
        "\n",
        "\n",
        "# define outcome, treatment, weights, additional covariates\n",
        "y=regvars['doc_num']\n",
        "d=regvars[['treatment']]\n",
        "w=regvars['weight']\n",
        "x=regvars.drop(['doc_num','treatment','weight'],axis=1) # treatment is the people that received the lottary\n",
        "\n",
        "regvars"
      ]
    },
    {
      "cell_type": "code",
      "execution_count": 9,
      "metadata": {
        "id": "sDiZpV_Vgn5N",
        "outputId": "57bfb63c-1f5e-4f32-f379-066f7ec461e4",
        "colab": {
          "base_uri": "https://localhost:8080/"
        }
      },
      "outputs": [
        {
          "output_type": "stream",
          "name": "stdout",
          "text": [
            "[0.2681993]\n",
            "Estimated effect of Medicaid elibility on \n",
            " number of doctor visits (bivariate): 0.268\n"
          ]
        }
      ],
      "source": [
        "# run weighted regression of outcome on treatment\n",
        "lm=linear_model.LinearRegression()\n",
        "lm.fit(d,y,w)\n",
        "print(lm.coef_)\n",
        "# display treatment effect\n",
        "# display treatment effect\n",
        "print(\"Estimated effect of Medicaid elibility on \\n number of doctor visits\" +\n",
        "      \" (bivariate): {:.3f}\".format(lm.coef_[0]))"
      ]
    },
    {
      "cell_type": "markdown",
      "metadata": {
        "id": "QEO9sO5NllO6"
      },
      "source": [
        "## Aluminum standard: Regression control"
      ]
    },
    {
      "cell_type": "markdown",
      "metadata": {
        "id": "mtllIvMQ1V8X"
      },
      "source": [
        "The bivariate regression above leans heavily on random assignment of treatment: \n",
        "$$\n",
        "D_{i}\\perp\\!\\!\\!\\!\\perp \\left( Y_{i}\\left( 0\\right) ,Y_{i}\\left( 1\\right) \\right) .\n",
        "$$\n",
        "Sometimes, even in an RCT, treatment is assigned randomly only conditional on some set of covariates $X_i$. \n",
        ">*example:* in the Oregon HIE,\n",
        "eligibility for Medicaid was granted via lottery, but households with more\n",
        "members could have more lottery entries. So the lottery outcome is random\n",
        "only conditional on household size. \n",
        "\n",
        "So what happens if we don't have random assignment? In terms of our regression model above, it means $\\varepsilon_i$ may be correlated with $D_i$. For example, perhaps household size, $X_i$, which increases the probability of treatment, is also associated with more doctor visits. If $X_i$ is omitted from the model, it is part of the error term:\n",
        "$$\n",
        "\\varepsilon_i=\\beta X_i +\\eta_i.\n",
        "$$\n",
        "We'll assume for now that everything else related to doctor visits ($\\eta_i$) is unrelated to treatment. What does our bivariate regression coefficient deliver in this case?\n",
        "$$\n",
        "\\hat{\\delta}^{OLS}\\underset{p}{\\rightarrow}\\frac{Cov\\left(Y_i,D_i\\right)}{Var\\left(D_i\\right)}=\\delta+\\gamma\\frac{Cov\\left(X_i,D_i\\right)}{Var\\left(D_i\\right)}\n",
        "$$\n",
        "Simple regression gives us what we want ($\\delta$) plus an **omitted variables bias** term. The form of this term tells us what kinds of $X_i$ variables we should take care to control for in our regressions.\n",
        "\n",
        "According to the OVB formula, what kinds of variables should be be sure to control for in regressions?\n",
        "\n",
        "Careful investigators will find a set of regressors $X_i$ for which they are willing to assume\n",
        "treatment is as good as randomly assigned:\n",
        "$$\n",
        "D_i\\perp\\!\\!\\!\\!\\perp\\left( Y_{i}\\left( 0\\right) ,Y_{i}\\left( 1\\right) \\right) |X_{i}\n",
        "\\text{.}\n",
        "$$\n",
        "This combined with a linear model for the conditional expectation of $%\n",
        "Y_{i}\\left( 0\\right) $ and $Y_{i}\\left( 1\\right) $ given $X_{i}$ means we\n",
        "can estimate the average treatment via OLS on the following regression\n",
        "equation:\n",
        "$$\n",
        "Y_{i}=\\delta D_{i}+X_{i}^{\\prime }\\beta +\\varepsilon _{i}.\n",
        "$$\n"
      ]
    },
    {
      "cell_type": "code",
      "execution_count": 10,
      "metadata": {
        "id": "AuBTrz2m5RvS",
        "outputId": "4e73659b-48cf-4257-9718-d5a78e71a485",
        "colab": {
          "base_uri": "https://localhost:8080/"
        }
      },
      "outputs": [
        {
          "output_type": "stream",
          "name": "stdout",
          "text": [
            "Estimated effect of Medicaid elibility on \n",
            " number of doctor visits (with controls): 0.314\n"
          ]
        }
      ],
      "source": [
        "# Add the household size indicators to our regressor set and run regression:\n",
        "lm.fit(pd.concat([d,x],axis=1),y,w)\n",
        "print(\"Estimated effect of Medicaid elibility on \\n number of doctor visits\" +\n",
        "      \" (with controls): {:.3f}\".format(lm.coef_[0]))\n",
        "\n",
        "# Household size may be negatively correlated with admission (\\beta<0), but household size is positively correlated with mediated treatment (COV(X,D)>0). Then, the OLS coef. is downward biased if exposed to omitted bias.\n",
        "# Note: In this example, we have been conditional on the income because only low income people are qualified."
      ]
    },
    {
      "cell_type": "markdown",
      "metadata": {
        "id": "8D4i_zl_KTuk"
      },
      "source": [
        "How did the estimate of the effect of Medicaid eligility change? What does that tell us about the relationship between the included regressors and the outcome and treatment?"
      ]
    },
    {
      "cell_type": "markdown",
      "metadata": {
        "id": "FDNSEcQYwfhC"
      },
      "source": [
        "## Connection to ML"
      ]
    },
    {
      "cell_type": "markdown",
      "metadata": {
        "id": "fLMqhUEDwRzf"
      },
      "source": [
        "Where does machine learning fit into this? It might be tempting to treat\n",
        "this regression as a prediction exercise where we are predicting $Y_{i}$\n",
        "given $D_{i}$ and $X_{i}$. Don't give in to this temptation. We are not\n",
        "after a prediction for $Y_{i}$, we are after a coefficient on $D_{i}$.\n",
        "Modern machine learning algorithms are finely tuned for producing\n",
        "predictions, but along the way they compromise coefficients. So how can we\n",
        "deploy machine learning in the service of estimating the causal coefficient $\\delta $?\n",
        "\n",
        "To see where ML fits in, first remember that an equivalent way to estimate $%\n",
        "\\delta $ is the following three-step procedure:\n",
        "\n",
        "\n",
        "1.   Regress $Y_{i}$ on $X_{i}$ and compute the residuals, $\\tilde{Y}%\n",
        "_{i}=Y_{i}-\\hat{Y}_{i}^{OLS}$, where $\\hat{Y}_{i}^{OLS}=X_{i}^{\\prime\n",
        "}\\left( X^{\\prime }X\\right) ^{-1}X^{\\prime }Y$\n",
        "2.   Regress $D_{i}$ on $X_{i}$ and compute the residuals, $\\tilde{D}%\n",
        "_{i}=D_{i}-\\hat{D}_{i}^{OLS}$, where $\\hat{D}_{i}^{OLS}=X_{i}^{\\prime\n",
        "}\\left( X^{\\prime }X\\right) ^{-1}X^{\\prime }D$\n",
        "\n",
        "3. Regress $\\tilde{Y}_{i}$ on $\\tilde{D}_{i}$.\n",
        "\n",
        "Let's try it!"
      ]
    },
    {
      "cell_type": "code",
      "execution_count": 11,
      "metadata": {
        "id": "ZdupDB5PuKEW",
        "outputId": "6f880ec7-48c2-40d2-cb3d-c1da44af7afb",
        "colab": {
          "base_uri": "https://localhost:8080/"
        }
      },
      "outputs": [
        {
          "output_type": "stream",
          "name": "stdout",
          "text": [
            "Estimated effect of Medicaid elibility on \n",
            " number of doctor visits (partialled out): 0.314\n"
          ]
        }
      ],
      "source": [
        "# Regress outcome on covariates\n",
        "yreg=linear_model.LinearRegression().fit(x,y,w)\n",
        "# Calculate residuals\n",
        "ytilde = y - yreg.predict(x)\n",
        "\n",
        "# regress treatment on covariates\n",
        "dreg = linear_model.LinearRegression().fit(x,d,w)\n",
        "# Calculate residuals\n",
        "dtilde = d - dreg.predict(x)\n",
        "\n",
        "# regress ytilde on dtilde\n",
        "lm.fit(dtilde,ytilde,w)\n",
        "print(\"Estimated effect of Medicaid elibility on \\n number of doctor visits\" +\n",
        "      \" (partialled out): {:.3f}\".format(lm.coef_[0]))"
      ]
    },
    {
      "cell_type": "markdown",
      "metadata": {
        "id": "jseTbw6nxrY9"
      },
      "source": [
        "ML enters the picture by providing an alternate way to generate $\\hat{Y}_i$ and $\\hat{D}_i$ when OLS is not the best tool for the job. The first two steps are really just prediction exercises, and in principle any supervised machine learning algorithm can step in here. Back to the whiteboard!"
      ]
    }
  ],
  "metadata": {
    "colab": {
      "provenance": []
    },
    "kernelspec": {
      "display_name": "Python 3.10.8 64-bit",
      "language": "python",
      "name": "python3"
    },
    "language_info": {
      "codemirror_mode": {
        "name": "ipython",
        "version": 3
      },
      "file_extension": ".py",
      "mimetype": "text/x-python",
      "name": "python",
      "nbconvert_exporter": "python",
      "pygments_lexer": "ipython3",
      "version": "3.10.8"
    },
    "vscode": {
      "interpreter": {
        "hash": "b0fa6594d8f4cbf19f97940f81e996739fb7646882a419484c72d19e05852a7e"
      }
    }
  },
  "nbformat": 4,
  "nbformat_minor": 0
}